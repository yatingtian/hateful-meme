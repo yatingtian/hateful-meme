{
  "nbformat": 4,
  "nbformat_minor": 0,
  "metadata": {
    "colab": {
      "name": "keyword_object_tag.ipynb",
      "provenance": [],
      "collapsed_sections": []
    },
    "kernelspec": {
      "name": "python3",
      "display_name": "Python 3"
    },
    "language_info": {
      "name": "python"
    }
  },
  "cells": [
    {
      "cell_type": "code",
      "metadata": {
        "id": "NpavJ4hZlggE",
        "colab": {
          "base_uri": "https://localhost:8080/"
        },
        "outputId": "27ba838a-735b-4325-aa77-7e643066f19f"
      },
      "source": [
        "import os\n",
        "import json\n",
        "import pandas as pd\n",
        "import numpy as np\n",
        "from google.colab import drive\n",
        "drive.mount(\"/content/gdrive\")"
      ],
      "execution_count": null,
      "outputs": [
        {
          "output_type": "stream",
          "name": "stdout",
          "text": [
            "Mounted at /content/gdrive\n"
          ]
        }
      ]
    },
    {
      "cell_type": "code",
      "source": [
        "from bs4 import BeautifulSoup\n",
        "import requests"
      ],
      "metadata": {
        "id": "VkPXLrVlkk5z"
      },
      "execution_count": null,
      "outputs": []
    },
    {
      "cell_type": "code",
      "metadata": {
        "colab": {
          "base_uri": "https://localhost:8080/"
        },
        "id": "XXYYtq5XnPj_",
        "outputId": "ac999dce-25e7-4939-c708-6f3983fd2ffa"
      },
      "source": [
        "#install profanity filter\n",
        "!pip install profanity-filter"
      ],
      "execution_count": null,
      "outputs": [
        {
          "output_type": "stream",
          "name": "stdout",
          "text": [
            "Collecting profanity-filter\n",
            "  Downloading profanity_filter-1.3.3-py3-none-any.whl (45 kB)\n",
            "\u001b[K     |████████████████████████████████| 45 kB 2.5 MB/s \n",
            "\u001b[?25hCollecting poetry-version<0.2.0,>=0.1.3\n",
            "  Downloading poetry_version-0.1.5-py2.py3-none-any.whl (13 kB)\n",
            "Collecting pydantic<2.0,>=1.3\n",
            "  Downloading pydantic-1.8.2-cp37-cp37m-manylinux2014_x86_64.whl (10.1 MB)\n",
            "\u001b[K     |████████████████████████████████| 10.1 MB 16.4 MB/s \n",
            "\u001b[?25hCollecting ordered-set<4.0,>=3.0\n",
            "  Downloading ordered-set-3.1.1.tar.gz (10 kB)\n",
            "Requirement already satisfied: spacy<3.0,>=2.0 in /usr/local/lib/python3.7/dist-packages (from profanity-filter) (2.2.4)\n",
            "Requirement already satisfied: more-itertools<9.0,>=8.0 in /usr/local/lib/python3.7/dist-packages (from profanity-filter) (8.12.0)\n",
            "Requirement already satisfied: cached-property<2.0,>=1.5 in /usr/local/lib/python3.7/dist-packages (from profanity-filter) (1.5.2)\n",
            "Collecting redis<4.0,>=3.2\n",
            "  Downloading redis-3.5.3-py2.py3-none-any.whl (72 kB)\n",
            "\u001b[K     |████████████████████████████████| 72 kB 542 kB/s \n",
            "\u001b[?25hCollecting ruamel.yaml<0.16.0,>=0.15.89\n",
            "  Downloading ruamel.yaml-0.15.100-cp37-cp37m-manylinux1_x86_64.whl (654 kB)\n",
            "\u001b[K     |████████████████████████████████| 654 kB 32.6 MB/s \n",
            "\u001b[?25hCollecting ordered-set-stubs<0.2.0,>=0.1.3\n",
            "  Downloading ordered_set_stubs-0.1.3-py2.py3-none-any.whl (4.8 kB)\n",
            "Collecting tomlkit<0.6.0,>=0.4.6\n",
            "  Downloading tomlkit-0.5.11-py2.py3-none-any.whl (31 kB)\n",
            "Requirement already satisfied: typing-extensions>=3.7.4.3 in /usr/local/lib/python3.7/dist-packages (from pydantic<2.0,>=1.3->profanity-filter) (3.10.0.2)\n",
            "Requirement already satisfied: preshed<3.1.0,>=3.0.2 in /usr/local/lib/python3.7/dist-packages (from spacy<3.0,>=2.0->profanity-filter) (3.0.6)\n",
            "Requirement already satisfied: thinc==7.4.0 in /usr/local/lib/python3.7/dist-packages (from spacy<3.0,>=2.0->profanity-filter) (7.4.0)\n",
            "Requirement already satisfied: blis<0.5.0,>=0.4.0 in /usr/local/lib/python3.7/dist-packages (from spacy<3.0,>=2.0->profanity-filter) (0.4.1)\n",
            "Requirement already satisfied: numpy>=1.15.0 in /usr/local/lib/python3.7/dist-packages (from spacy<3.0,>=2.0->profanity-filter) (1.19.5)\n",
            "Requirement already satisfied: wasabi<1.1.0,>=0.4.0 in /usr/local/lib/python3.7/dist-packages (from spacy<3.0,>=2.0->profanity-filter) (0.8.2)\n",
            "Requirement already satisfied: catalogue<1.1.0,>=0.0.7 in /usr/local/lib/python3.7/dist-packages (from spacy<3.0,>=2.0->profanity-filter) (1.0.0)\n",
            "Requirement already satisfied: plac<1.2.0,>=0.9.6 in /usr/local/lib/python3.7/dist-packages (from spacy<3.0,>=2.0->profanity-filter) (1.1.3)\n",
            "Requirement already satisfied: requests<3.0.0,>=2.13.0 in /usr/local/lib/python3.7/dist-packages (from spacy<3.0,>=2.0->profanity-filter) (2.23.0)\n",
            "Requirement already satisfied: murmurhash<1.1.0,>=0.28.0 in /usr/local/lib/python3.7/dist-packages (from spacy<3.0,>=2.0->profanity-filter) (1.0.6)\n",
            "Requirement already satisfied: tqdm<5.0.0,>=4.38.0 in /usr/local/lib/python3.7/dist-packages (from spacy<3.0,>=2.0->profanity-filter) (4.62.3)\n",
            "Requirement already satisfied: cymem<2.1.0,>=2.0.2 in /usr/local/lib/python3.7/dist-packages (from spacy<3.0,>=2.0->profanity-filter) (2.0.6)\n",
            "Requirement already satisfied: setuptools in /usr/local/lib/python3.7/dist-packages (from spacy<3.0,>=2.0->profanity-filter) (57.4.0)\n",
            "Requirement already satisfied: srsly<1.1.0,>=1.0.2 in /usr/local/lib/python3.7/dist-packages (from spacy<3.0,>=2.0->profanity-filter) (1.0.5)\n",
            "Requirement already satisfied: importlib-metadata>=0.20 in /usr/local/lib/python3.7/dist-packages (from catalogue<1.1.0,>=0.0.7->spacy<3.0,>=2.0->profanity-filter) (4.8.2)\n",
            "Requirement already satisfied: zipp>=0.5 in /usr/local/lib/python3.7/dist-packages (from importlib-metadata>=0.20->catalogue<1.1.0,>=0.0.7->spacy<3.0,>=2.0->profanity-filter) (3.6.0)\n",
            "Requirement already satisfied: urllib3!=1.25.0,!=1.25.1,<1.26,>=1.21.1 in /usr/local/lib/python3.7/dist-packages (from requests<3.0.0,>=2.13.0->spacy<3.0,>=2.0->profanity-filter) (1.24.3)\n",
            "Requirement already satisfied: certifi>=2017.4.17 in /usr/local/lib/python3.7/dist-packages (from requests<3.0.0,>=2.13.0->spacy<3.0,>=2.0->profanity-filter) (2021.10.8)\n",
            "Requirement already satisfied: chardet<4,>=3.0.2 in /usr/local/lib/python3.7/dist-packages (from requests<3.0.0,>=2.13.0->spacy<3.0,>=2.0->profanity-filter) (3.0.4)\n",
            "Requirement already satisfied: idna<3,>=2.5 in /usr/local/lib/python3.7/dist-packages (from requests<3.0.0,>=2.13.0->spacy<3.0,>=2.0->profanity-filter) (2.10)\n",
            "Building wheels for collected packages: ordered-set\n",
            "  Building wheel for ordered-set (setup.py) ... \u001b[?25l\u001b[?25hdone\n",
            "  Created wheel for ordered-set: filename=ordered_set-3.1.1-py2.py3-none-any.whl size=7823 sha256=071ff25fb907004f117d9d87bc0bd7766c93815e07e3a96da1d7c0027f1892cf\n",
            "  Stored in directory: /root/.cache/pip/wheels/10/91/db/f8476865ccd2187467d2926d9f965673b4886175b6babca6b9\n",
            "Successfully built ordered-set\n",
            "Installing collected packages: tomlkit, ruamel.yaml, redis, pydantic, poetry-version, ordered-set-stubs, ordered-set, profanity-filter\n",
            "Successfully installed ordered-set-3.1.1 ordered-set-stubs-0.1.3 poetry-version-0.1.5 profanity-filter-1.3.3 pydantic-1.8.2 redis-3.5.3 ruamel.yaml-0.15.100 tomlkit-0.5.11\n"
          ]
        }
      ]
    },
    {
      "cell_type": "markdown",
      "source": [
        "#### Helper functions"
      ],
      "metadata": {
        "id": "XmUXIOqNEz4F"
      }
    },
    {
      "cell_type": "code",
      "source": [
        "def convert_jsonl_pd(filepath):\n",
        "  with open(filepath, 'r') as json_file:\n",
        "    json_list = list(json_file)\n",
        "  \n",
        "  dat = []\n",
        "  for json_str in json_list:\n",
        "    result = json.loads(json_str)\n",
        "    dat.append(result)\n",
        "  \n",
        "  dat = pd.DataFrame(dat)\n",
        "  return dat\n",
        "\n"
      ],
      "metadata": {
        "id": "7vbQRYTKEZRC"
      },
      "execution_count": null,
      "outputs": []
    },
    {
      "cell_type": "code",
      "source": [
        "import spacy\n",
        "from profanity_filter import ProfanityFilter\n",
        "\n",
        "def add_profanity(dat):\n",
        "  nlp = spacy.load('en')\n",
        "  profanity_filter = ProfanityFilter(nlps={'en': nlp})  # reuse spacy Language (optional)\n",
        "  nlp.add_pipe(profanity_filter.spacy_component, last=True)\n",
        "  profanity = []\n",
        "  for item in dat.text:\n",
        "    doc = nlp(item)\n",
        "    profanity.append(doc._.is_profane)\n",
        "  \n",
        "  dat['profanity'] = profanity\n",
        "  return dat"
      ],
      "metadata": {
        "id": "6jUwcpTZFAl_"
      },
      "execution_count": null,
      "outputs": []
    },
    {
      "cell_type": "markdown",
      "source": [
        "#### Identify profanity in each dataset"
      ],
      "metadata": {
        "id": "EtRkGa_oFvQN"
      }
    },
    {
      "cell_type": "code",
      "source": [
        "train = convert_jsonl_pd('/content/train.jsonl')\n",
        "train.head()"
      ],
      "metadata": {
        "colab": {
          "base_uri": "https://localhost:8080/",
          "height": 206
        },
        "id": "VAsLyHA5F0HX",
        "outputId": "e8283b15-abc3-4192-e5d8-af5ff9a12c4c"
      },
      "execution_count": null,
      "outputs": [
        {
          "output_type": "execute_result",
          "data": {
            "text/html": [
              "<div>\n",
              "<style scoped>\n",
              "    .dataframe tbody tr th:only-of-type {\n",
              "        vertical-align: middle;\n",
              "    }\n",
              "\n",
              "    .dataframe tbody tr th {\n",
              "        vertical-align: top;\n",
              "    }\n",
              "\n",
              "    .dataframe thead th {\n",
              "        text-align: right;\n",
              "    }\n",
              "</style>\n",
              "<table border=\"1\" class=\"dataframe\">\n",
              "  <thead>\n",
              "    <tr style=\"text-align: right;\">\n",
              "      <th></th>\n",
              "      <th>id</th>\n",
              "      <th>img</th>\n",
              "      <th>label</th>\n",
              "      <th>text</th>\n",
              "    </tr>\n",
              "  </thead>\n",
              "  <tbody>\n",
              "    <tr>\n",
              "      <th>0</th>\n",
              "      <td>42953</td>\n",
              "      <td>img/42953.png</td>\n",
              "      <td>0</td>\n",
              "      <td>its their character not their color that matters</td>\n",
              "    </tr>\n",
              "    <tr>\n",
              "      <th>1</th>\n",
              "      <td>23058</td>\n",
              "      <td>img/23058.png</td>\n",
              "      <td>0</td>\n",
              "      <td>don't be afraid to love again everyone is not ...</td>\n",
              "    </tr>\n",
              "    <tr>\n",
              "      <th>2</th>\n",
              "      <td>13894</td>\n",
              "      <td>img/13894.png</td>\n",
              "      <td>0</td>\n",
              "      <td>putting bows on your pet</td>\n",
              "    </tr>\n",
              "    <tr>\n",
              "      <th>3</th>\n",
              "      <td>37408</td>\n",
              "      <td>img/37408.png</td>\n",
              "      <td>0</td>\n",
              "      <td>i love everything and everybody! except for sq...</td>\n",
              "    </tr>\n",
              "    <tr>\n",
              "      <th>4</th>\n",
              "      <td>82403</td>\n",
              "      <td>img/82403.png</td>\n",
              "      <td>0</td>\n",
              "      <td>everybody loves chocolate chip cookies, even h...</td>\n",
              "    </tr>\n",
              "  </tbody>\n",
              "</table>\n",
              "</div>"
            ],
            "text/plain": [
              "      id  ...                                               text\n",
              "0  42953  ...   its their character not their color that matters\n",
              "1  23058  ...  don't be afraid to love again everyone is not ...\n",
              "2  13894  ...                           putting bows on your pet\n",
              "3  37408  ...  i love everything and everybody! except for sq...\n",
              "4  82403  ...  everybody loves chocolate chip cookies, even h...\n",
              "\n",
              "[5 rows x 4 columns]"
            ]
          },
          "metadata": {},
          "execution_count": 7
        }
      ]
    },
    {
      "cell_type": "code",
      "source": [
        "#add indicator for profanity\n",
        "train = add_profanity(train)\n",
        "train.head()"
      ],
      "metadata": {
        "colab": {
          "base_uri": "https://localhost:8080/",
          "height": 206
        },
        "id": "fBRrM67gGH0a",
        "outputId": "f5bb530e-196a-4264-ecd0-6b9cfaadad42"
      },
      "execution_count": null,
      "outputs": [
        {
          "output_type": "execute_result",
          "data": {
            "text/html": [
              "<div>\n",
              "<style scoped>\n",
              "    .dataframe tbody tr th:only-of-type {\n",
              "        vertical-align: middle;\n",
              "    }\n",
              "\n",
              "    .dataframe tbody tr th {\n",
              "        vertical-align: top;\n",
              "    }\n",
              "\n",
              "    .dataframe thead th {\n",
              "        text-align: right;\n",
              "    }\n",
              "</style>\n",
              "<table border=\"1\" class=\"dataframe\">\n",
              "  <thead>\n",
              "    <tr style=\"text-align: right;\">\n",
              "      <th></th>\n",
              "      <th>id</th>\n",
              "      <th>img</th>\n",
              "      <th>label</th>\n",
              "      <th>text</th>\n",
              "      <th>profanity</th>\n",
              "    </tr>\n",
              "  </thead>\n",
              "  <tbody>\n",
              "    <tr>\n",
              "      <th>0</th>\n",
              "      <td>42953</td>\n",
              "      <td>img/42953.png</td>\n",
              "      <td>0</td>\n",
              "      <td>its their character not their color that matters</td>\n",
              "      <td>False</td>\n",
              "    </tr>\n",
              "    <tr>\n",
              "      <th>1</th>\n",
              "      <td>23058</td>\n",
              "      <td>img/23058.png</td>\n",
              "      <td>0</td>\n",
              "      <td>don't be afraid to love again everyone is not ...</td>\n",
              "      <td>False</td>\n",
              "    </tr>\n",
              "    <tr>\n",
              "      <th>2</th>\n",
              "      <td>13894</td>\n",
              "      <td>img/13894.png</td>\n",
              "      <td>0</td>\n",
              "      <td>putting bows on your pet</td>\n",
              "      <td>False</td>\n",
              "    </tr>\n",
              "    <tr>\n",
              "      <th>3</th>\n",
              "      <td>37408</td>\n",
              "      <td>img/37408.png</td>\n",
              "      <td>0</td>\n",
              "      <td>i love everything and everybody! except for sq...</td>\n",
              "      <td>False</td>\n",
              "    </tr>\n",
              "    <tr>\n",
              "      <th>4</th>\n",
              "      <td>82403</td>\n",
              "      <td>img/82403.png</td>\n",
              "      <td>0</td>\n",
              "      <td>everybody loves chocolate chip cookies, even h...</td>\n",
              "      <td>False</td>\n",
              "    </tr>\n",
              "  </tbody>\n",
              "</table>\n",
              "</div>"
            ],
            "text/plain": [
              "      id  ... profanity\n",
              "0  42953  ...     False\n",
              "1  23058  ...     False\n",
              "2  13894  ...     False\n",
              "3  37408  ...     False\n",
              "4  82403  ...     False\n",
              "\n",
              "[5 rows x 5 columns]"
            ]
          },
          "metadata": {},
          "execution_count": 23
        }
      ]
    },
    {
      "cell_type": "code",
      "source": [
        "pd.crosstab(train['profanity'], train['label'])"
      ],
      "metadata": {
        "colab": {
          "base_uri": "https://localhost:8080/",
          "height": 143
        },
        "id": "ZI6GbYa5GddR",
        "outputId": "77befc44-312a-45fd-9440-4633e7818a79"
      },
      "execution_count": null,
      "outputs": [
        {
          "output_type": "execute_result",
          "data": {
            "text/html": [
              "<div>\n",
              "<style scoped>\n",
              "    .dataframe tbody tr th:only-of-type {\n",
              "        vertical-align: middle;\n",
              "    }\n",
              "\n",
              "    .dataframe tbody tr th {\n",
              "        vertical-align: top;\n",
              "    }\n",
              "\n",
              "    .dataframe thead th {\n",
              "        text-align: right;\n",
              "    }\n",
              "</style>\n",
              "<table border=\"1\" class=\"dataframe\">\n",
              "  <thead>\n",
              "    <tr style=\"text-align: right;\">\n",
              "      <th>label</th>\n",
              "      <th>0</th>\n",
              "      <th>1</th>\n",
              "    </tr>\n",
              "    <tr>\n",
              "      <th>profanity</th>\n",
              "      <th></th>\n",
              "      <th></th>\n",
              "    </tr>\n",
              "  </thead>\n",
              "  <tbody>\n",
              "    <tr>\n",
              "      <th>False</th>\n",
              "      <td>4732</td>\n",
              "      <td>2399</td>\n",
              "    </tr>\n",
              "    <tr>\n",
              "      <th>True</th>\n",
              "      <td>749</td>\n",
              "      <td>620</td>\n",
              "    </tr>\n",
              "  </tbody>\n",
              "</table>\n",
              "</div>"
            ],
            "text/plain": [
              "label         0     1\n",
              "profanity            \n",
              "False      4732  2399\n",
              "True        749   620"
            ]
          },
          "metadata": {},
          "execution_count": 24
        }
      ]
    },
    {
      "cell_type": "markdown",
      "source": [
        "#### Build data dictionary with keywords for\n",
        "\n",
        "\n",
        "*   Racism \n",
        "*   Nationality\n",
        "*   Pregnancy/abortion\n",
        "*   Disability\n",
        "*   Religion\n",
        "*   Gender\n",
        "\n"
      ],
      "metadata": {
        "id": "msisoMnFGqjf"
      }
    },
    {
      "cell_type": "code",
      "source": [
        "nationality = [\"afghanistan\", \"albania\", \"algeria\", \"argentina\", \"australia\", \n",
        "\"austria\", \"bangladesh\", \"belgium\", \"bolivia\", \"botswana\", \"brazil\", \n",
        "\"bulgaria\", \"cambodia\", \"cameroon\", \"canada\", \"chile\", \"china\", \n",
        "\"colombia\", \"costa rica\", \"croatia\", \"cuba\", \"czech republic\", \n",
        "\"denmark\", \"dominican republic\", \"ecuador\", \"egypt\", \"el salvador\", \n",
        "\"england\", \"estonia\", \"ethiopia\", \"fiji\", \"finland\", \"france\", \n",
        "\"germany\", \"ghana\", \"greece\", \"guatemala\", \"haiti\", \"honduras\", \n",
        "\"hungary\", \"iceland\", \"india\", \"indonesia\", \"iran\", \"iraq\", \"ireland\", \n",
        "\"israel\", \"italy\", \"jamaica\", \"japan\", \"jordan\", \"kenya\", \"kuwait\", \n",
        "\"laos\", \"latvia\", \"lebanon\", \"libya\", \"lithuania\", \"madagascar\", \n",
        "\"malaysia\", \"mali\", \"malta\", \"mexico\", \"mongolia\", \"morocco\", \n",
        "\"mozambique\", \"namibia\", \"nepal\", \"netherlands\", \"new zealand\", \n",
        "\"nicaragua\", \"nigeria\", \"norway\", \"pakistan\", \"panama\", \"paraguay\", \n",
        "\"peru\", \"philippines\", \"poland\", \"portugal\", \"romania\", \"russia\", \n",
        "\"saudi arabia\", \"scotland\", \"senegal\", \"serbia\", \"singapore\", \n",
        "\"slovakia\", \"south africa\", \"south korea\", \"spain\", \"sri lanka\", \n",
        "\"sudan\", \"sweden\", \"switzerland\", \"syria\", \"taiwan\", \"tajikistan\", \n",
        "\"thailand\", \"tonga\", \"tunisia\", \"turkey\", \"ukraine\", \"united arab emirates\", \n",
        "\"united kingdom\", \"united states\", \"uruguay\", \"venezuela\", \n",
        "\"vietnam\", \"wales\", \"zambia\", \"zimbabwe\", \"afghan\", \"albanian\", \n",
        "\"algerian\", \"argentineargentinian\", \"australian\", \"austrian\", \n",
        "\"bangladeshi\", \"belgian\", \"bolivian\", \"batswana\", \"brazilian\", \n",
        "\"bulgarian\", \"cambodian\", \"cameroonian\", \"canadian\", \"chilean\", \n",
        "\"chinese\", \"colombian\", \"costa rican\", \"croatian\", \"cuban\", \"czech\", \n",
        "\"danish\", \"dominican\", \"ecuadorian\", \"egyptian\", \"salvadorian\", \n",
        "\"english\", \"estonian\", \"ethiopian\", \"fijian\", \"finnish\", \"french\", \n",
        "\"german\", \"ghanaian\", \"greek\", \"guatemalan\", \"haitian\", \"honduran\", \n",
        "\"hungarian\", \"icelandic\", \"indian\", \"indonesian\", \"iranian\", \n",
        "\"iraqi\", \"irish\", \"israeli\", \"italian\", \"jamaican\", \"japanese\", \n",
        "\"jordanian\", \"kenyan\", \"kuwaiti\", \"lao\", \"latvian\", \"lebanese\", \n",
        "\"libyan\", \"lithuanian\", \"malagasy\", \"malaysian\", \"malian\", \"maltese\", \n",
        "\"mexican\", \"mongolian\", \"moroccan\", \"mozambican\", \"namibian\", \n",
        "\"nepalese\", \"dutch\", \"nicaraguan\", \"nigerian\", \"norwegian\", \"pakistani\", \n",
        "\"panamanian\", \"paraguayan\", \"peruvian\", \"philippine\", \"polish\", \n",
        "\"portuguese\", \"romanian\", \"russian\", \"saudi\", \"scottish\", \"senegalese\", \n",
        "\"serbian\", \"singaporean\", \"slovak\", \"south african\", \"korean\", \n",
        "\"spanish\", \"sri lankan\", \"sudanese\", \"swedish\", \"swiss\", \"syrian\", \n",
        "\"taiwanese\", \"tajikistani\", \"thai\", \"tongan\", \"tunisian\", \"turkish\", \n",
        "\"ukrainian\", \"emirati\", \"british\", \"american\", \"uruguayan\", \n",
        "\"venezuelan\", \"vietnamese\", \"welsh\", \"zambian\", \"zimbabwean\", \n",
        "\"botswanan\", \"costrican\", \"croat\", \"dane\", \"salvadoran\", \"englishman\", \"englishwoman\", \n",
        "\"finn\", \"frenchm\", \"frenchwoman\", \"icelander\", \"irishman\", \"irishwoman\", \n",
        "\"laotain\", \"nambian\", \"dutchmandutchwoman\", \"new zealander\", \n",
        "\"filipino\", \"pole\", \"saudi\", \"scot\", \"spaniard\", \"swede\", \n",
        "\"turk\", \"ukranian\", \"brit\", \"american\", \"welshmanwelshwoman\", \n",
        "\"dari\", \"persian\", \"pashto\", \"arabic\", \"bengali\", \"flemish\", \n",
        "\"english, setswana\", \"french\",\n",
        "\"amharic\", \"fijian\", \"creole\", \"hindi\", \n",
        "\"persian\", \"arabic, kurdish\", \"irish\", \"hebrew\", \"swahili\", \n",
        "\"arabiv\", \"laotian\", \"malagasy\", \"malay\", \"malaysian\", \n",
        "\"english, maltese\", \"arabic\", \"nepali\", \"maori\", \n",
        "\"urdu, english\", \"tagalog\", \"filipino\", \"malay\", \"mandarin\", \"tamil\", \n",
        "\"afrikaans\", \"sinhala\", \"tamil\", \"arabic\", \n",
        "\"romansh\", \"tajik\", \"tongan\", \n",
        "\"welsh\", \"asian\", 'native american', 'aussie', 'african', 'jewish', 'european', 'caucasian']\n",
        "nationality = set(nationality)"
      ],
      "metadata": {
        "id": "4y1HX618PnPi"
      },
      "execution_count": null,
      "outputs": []
    },
    {
      "cell_type": "code",
      "source": [
        "out = []\n",
        "for text in train.text:\n",
        "  temp = []\n",
        "  for item in nationality:\n",
        "    if text.find(item) != -1:\n",
        "      temp.append(item)\n",
        "  temp = ','.join(temp)\n",
        "  out.append(temp)\n",
        "\n",
        "  "
      ],
      "metadata": {
        "id": "PUec_YagRLRq"
      },
      "execution_count": null,
      "outputs": []
    },
    {
      "cell_type": "code",
      "source": [
        "train['nationality'] = out"
      ],
      "metadata": {
        "id": "LVrVCnTGStxL"
      },
      "execution_count": null,
      "outputs": []
    },
    {
      "cell_type": "code",
      "source": [
        "pd.crosstab(train['nationality'] == '', train['label'])"
      ],
      "metadata": {
        "colab": {
          "base_uri": "https://localhost:8080/",
          "height": 143
        },
        "id": "l2Qz53ZTWe2-",
        "outputId": "5c468861-dba9-436d-cf6a-32c33dbd2cbe"
      },
      "execution_count": null,
      "outputs": [
        {
          "output_type": "execute_result",
          "data": {
            "text/html": [
              "<div>\n",
              "<style scoped>\n",
              "    .dataframe tbody tr th:only-of-type {\n",
              "        vertical-align: middle;\n",
              "    }\n",
              "\n",
              "    .dataframe tbody tr th {\n",
              "        vertical-align: top;\n",
              "    }\n",
              "\n",
              "    .dataframe thead th {\n",
              "        text-align: right;\n",
              "    }\n",
              "</style>\n",
              "<table border=\"1\" class=\"dataframe\">\n",
              "  <thead>\n",
              "    <tr style=\"text-align: right;\">\n",
              "      <th>label</th>\n",
              "      <th>0</th>\n",
              "      <th>1</th>\n",
              "    </tr>\n",
              "    <tr>\n",
              "      <th>nationality</th>\n",
              "      <th></th>\n",
              "      <th></th>\n",
              "    </tr>\n",
              "  </thead>\n",
              "  <tbody>\n",
              "    <tr>\n",
              "      <th>False</th>\n",
              "      <td>328</td>\n",
              "      <td>451</td>\n",
              "    </tr>\n",
              "    <tr>\n",
              "      <th>True</th>\n",
              "      <td>5153</td>\n",
              "      <td>2568</td>\n",
              "    </tr>\n",
              "  </tbody>\n",
              "</table>\n",
              "</div>"
            ],
            "text/plain": [
              "label           0     1\n",
              "nationality            \n",
              "False         328   451\n",
              "True         5153  2568"
            ]
          },
          "metadata": {},
          "execution_count": 32
        }
      ]
    },
    {
      "cell_type": "markdown",
      "source": [
        "### Racism"
      ],
      "metadata": {
        "id": "WMUqGbMBZWr6"
      }
    },
    {
      "cell_type": "code",
      "source": [
        "# get URL\n",
        "page = requests.get(\"https://en.wikipedia.org/wiki/List_of_regional_nicknames\")\n",
        " \n",
        "# scrape webpage\n",
        "soup = BeautifulSoup(page.content, 'html.parser')\n",
        " \n",
        "list(soup.children)\n",
        " \n",
        "# find all occurrence of p in HTML\n",
        "# includes HTML tags\n",
        "print(soup.find_all('dt'))"
      ],
      "metadata": {
        "colab": {
          "base_uri": "https://localhost:8080/"
        },
        "id": "zBWcN6BPkuHg",
        "outputId": "06db394e-2066-452f-87d2-211f5f69c594"
      },
      "execution_count": null,
      "outputs": [
        {
          "output_type": "stream",
          "name": "stdout",
          "text": [
            "[<dt>Arkansawyer</dt>, <dt>Arkie/Arky</dt>, <dt>Appler</dt>, <dt><a href=\"/wiki/Aussie\" title=\"Aussie\">Aussie</a></dt>, <dt>Banker (or Outer Banker)</dt>, <dt>Banana bender</dt>, <dt><a class=\"mw-redirect\" href=\"/wiki/Puerto_Rican_people#Boricua\" title=\"Puerto Rican people\">Boricua</a></dt>, <dt>Bluenose, Bluenoser</dt>, <dt><a class=\"mw-redirect\" href=\"/wiki/Bonacker\" title=\"Bonacker\">Bonacker</a></dt>, <dt><a class=\"mw-redirect\" href=\"/wiki/Brummie\" title=\"Brummie\">Brummie</a></dt>, <dt><a class=\"mw-redirect\" href=\"/wiki/Buckeye_(nickname)\" title=\"Buckeye (nickname)\">Buckeye</a></dt>, <dt>Cabbage patcher</dt>, <dt><a class=\"mw-redirect\" href=\"/wiki/Cajun\" title=\"Cajun\">Cajun</a></dt>, <dt><a href=\"/wiki/Canuck\" title=\"Canuck\">Canuck</a></dt>, <dt>Capixaba</dt>, <dt><a href=\"/wiki/Carioca\" title=\"Carioca\">Carioca</a></dt>, <dt>Candango</dt>, <dt><a class=\"mw-redirect\" href=\"/wiki/Catracho\" title=\"Catracho\">Catracho</a></dt>, <dt><a class=\"extiw\" href=\"https://en.wiktionary.org/wiki/chamo#Spanish\" title=\"wikt:chamo\">Chamo</a></dt>, <dt><a href=\"/wiki/Cheesehead\" title=\"Cheesehead\">Cheesehead</a></dt>, <dt><a href=\"/wiki/Chilango\" title=\"Chilango\">Chilango</a>, defeño, capitalino</dt>, <dt><a href=\"/wiki/Cockney\" title=\"Cockney\">Cockney</a></dt>, <dt><a href=\"/wiki/Cockroach\" title=\"Cockroach\">Cockroach</a></dt>, <dt><a class=\"mw-redirect\" href=\"/wiki/Tuckahoe-Cohee\" title=\"Tuckahoe-Cohee\">Cohee</a></dt>, <dt><a href=\"/wiki/Conch_(people)\" title=\"Conch (people)\">Conch</a></dt>, <dt><a class=\"mw-redirect\" href=\"/wiki/Croweater\" title=\"Croweater\">Croweater</a></dt>, <dt><a href=\"/wiki/Culchie\" title=\"Culchie\">Culchie</a></dt>, <dt>Dallie or Dally</dt>, <dt>Foolio</dt>, <dt>Fudgie</dt>, <dt><a href=\"/wiki/Gaucho\" title=\"Gaucho\">Gaúcho</a></dt>, <dt><a href=\"/wiki/Geordie\" title=\"Geordie\">Geordie</a></dt>, <dt>Gult, Gulti, Gulte</dt>, <dt><a href=\"/wiki/Hidroc%C3%A1lido\" title=\"Hidrocálido\">Hidrocálido</a></dt>, <dt><a href=\"/wiki/Hillbilly\" title=\"Hillbilly\">Hillbilly</a></dt>, <dt><a href=\"/wiki/Hoosier\" title=\"Hoosier\">Hoosier</a></dt>, <dt><a href=\"/wiki/Jackeen\" title=\"Jackeen\">Jackeen</a></dt>, <dt><a href=\"/wiki/Jafa\" title=\"Jafa\">Jafa</a>, JAFA</dt>, <dt><a href=\"/wiki/Swansea_Jack\" title=\"Swansea Jack\">Swansea Jack</a></dt>, <dt><a href=\"/wiki/Janner\" title=\"Janner\">Janner</a></dt>, <dt><a href=\"/wiki/Jarocho\" title=\"Jarocho\">Jarocho</a></dt>, <dt><a class=\"new\" href=\"/w/index.php?title=Kaaskop&amp;action=edit&amp;redlink=1\" title=\"Kaaskop (page does not exist)\">Kaaskop</a></dt>, <dt><a href=\"/wiki/Kiwi_(people)\" title=\"Kiwi (people)\">Kiwi</a></dt>, <dt><a href=\"/wiki/Kraut\" title=\"Kraut\">Kraut</a></dt>, <dt><a href=\"/wiki/Leeds\" title=\"Leeds\">Leodesian</a>, <a href=\"/wiki/Loiner\" title=\"Loiner\">Loiner</a></dt>, <dt><a href=\"/wiki/Mackem\" title=\"Mackem\">Mackem</a></dt>, <dt><a href=\"/wiki/Madrasi\" title=\"Madrasi\">Madrasi</a></dt>, <dt><a href=\"/wiki/Michigander\" title=\"Michigander\">Michigander</a></dt>, <dt><a href=\"/wiki/Monkey_hanger\" title=\"Monkey hanger\">Monkey Hanger</a></dt>, <dt><a href=\"/wiki/Moonrakers\" title=\"Moonrakers\">Moonrakers</a></dt>, <dt><a href=\"/wiki/Newfie\" title=\"Newfie\">Newfie</a>, Newfie, Newf</dt>, <dt>Knickerbocker</dt>, <dt><a href=\"/wiki/Nutmegger\" title=\"Nutmegger\">Nutmegger</a></dt>, <dt><a href=\"/wiki/Nipper\" title=\"Nipper\">Nipper</a></dt>, <dt><a href=\"/wiki/Okie\" title=\"Okie\">Okie</a></dt>, <dt><a href=\"/wiki/New_states_of_Germany#Culture\" title=\"New states of Germany\">Ossi</a></dt>, <dt><a class=\"extiw\" href=\"https://en.wiktionary.org/wiki/pikey\" title=\"wiktionary:pikey\">Pikey</a></dt>, <dt><a href=\"/wiki/Pinoy\" title=\"Pinoy\">Pinoy</a></dt>, <dt><a class=\"mw-redirect\" href=\"/wiki/Polentone\" title=\"Polentone\">Polentone</a><span class=\"noprint\" style=\"font-size:85%; font-style: normal;\"> [<a class=\"extiw\" href=\"https://it.wikipedia.org/wiki/Polentone\" title=\"it:Polentone\">it</a>]</span></dt>, <dt><a class=\"mw-redirect\" href=\"/wiki/Pom_(slang)\" title=\"Pom (slang)\">Pom</a></dt>, <dt><a href=\"/wiki/Porte%C3%B1o\" title=\"Porteño\">Porteño</a></dt>, <dt><a href=\"/wiki/Polak\" title=\"Polak\">Polak</a></dt>, <dt>Regio, <a class=\"mw-redirect\" href=\"/wiki/Regiomontano\" title=\"Regiomontano\">Regiomontano</a></dt>, <dt>Rhode Islander</dt>, <dt>Saffa / Saffer</dt>, <dt><a href=\"/wiki/Western_Australia\" title=\"Western Australia\">Sandgroper</a></dt>, <dt>Sandlapper</dt>, <dt><a class=\"mw-redirect\" href=\"/wiki/Scouser\" title=\"Scouser\">Scouser</a></dt>, <dt><a class=\"mw-redirect\" href=\"/wiki/Sooner\" title=\"Sooner\">Sooner</a></dt>, <dt>Spud Islander</dt>, <dt><a class=\"new\" href=\"/w/index.php?title=Stubblejumper&amp;action=edit&amp;redlink=1\" title=\"Stubblejumper (page does not exist)\">Stubblejumper</a></dt>, <dt><a href=\"/wiki/Taffy_was_a_Welshman\" title=\"Taffy was a Welshman\">Taffy</a></dt>, <dt><a href=\"/wiki/Tar_Heel\" title=\"Tar Heel\">Tar Heel</a></dt>, <dt><a class=\"mw-redirect\" href=\"/wiki/Taswegian\" title=\"Taswegian\">Taswegian</a>, Tassie</dt>, <dt><a href=\"/wiki/Tapat%C3%ADo\" title=\"Tapatío\">Tapatío</a></dt>, <dt><a href=\"/wiki/Terrone\" title=\"Terrone\">Terrone</a></dt>, <dt><a class=\"mw-redirect\" href=\"/wiki/Tico\" title=\"Tico\">Tico</a></dt>, <dt><a class=\"mw-redirect\" href=\"/wiki/Tripeiro\" title=\"Tripeiro\">Tripeiro</a></dt>, <dt><a href=\"/wiki/Three_Billy_Goats_Gruff\" title=\"Three Billy Goats Gruff\">Trolls</a></dt>, <dt><a class=\"mw-redirect\" href=\"/wiki/Tuckahoe-Cohee\" title=\"Tuckahoe-Cohee\">Tuckahoe</a></dt>, <dt><a class=\"mw-redirect\" href=\"/wiki/Tyke_(dialect)\" title=\"Tyke (dialect)\">Tyke</a></dt>, <dt><a class=\"mw-redirect\" href=\"/wiki/Wessi\" title=\"Wessi\">Wessi</a></dt>, <dt><a class=\"mw-redirect\" href=\"/wiki/Yat_(New_Orleans)\" title=\"Yat (New Orleans)\">Yat</a></dt>, <dt><a class=\"mw-redirect\" href=\"/wiki/Yellowbelly_(Copthorne)\" title=\"Yellowbelly (Copthorne)\">Yellowbelly (Copthorne)</a></dt>, <dt><a href=\"/wiki/Yellowbelly_(Lincolnshire)\" title=\"Yellowbelly (Lincolnshire)\">Yellowbelly (Lincolnshire)</a></dt>, <dt><a href=\"/wiki/Yinzer\" title=\"Yinzer\">Yinzer</a></dt>, <dt><a class=\"mw-redirect\" href=\"/wiki/Yooper_dialect\" title=\"Yooper dialect\">Yooper</a></dt>, <dt>Zimbo</dt>, <dt><a href=\"/wiki/Carcamano\" title=\"Carcamano\">Carcamano</a></dt>, <dt><a href=\"/wiki/Coastie\" title=\"Coastie\">Coastie</a></dt>, <dt><a href=\"/wiki/Cohee\" title=\"Cohee\">Cohee</a></dt>, <dt><a href=\"/wiki/Eurotrash_(term)\" title=\"Eurotrash (term)\">Eurotrash</a></dt>, <dt><a class=\"extiw\" href=\"https://en.wiktionary.org/wiki/Flatlander\" title=\"wikt:Flatlander\">Flatlander</a></dt>, <dt><a href=\"/wiki/Gaucho\" title=\"Gaucho\">Gaucho</a></dt>, <dt><a class=\"extiw\" href=\"https://en.wiktionary.org/wiki/goober\" title=\"wikt:goober\">Goober</a></dt>, <dt><a class=\"mw-redirect\" href=\"/wiki/Guajiro\" title=\"Guajiro\">Guajiro</a></dt>, <dt><a href=\"/wiki/Hillbilly\" title=\"Hillbilly\">Hillbilly</a></dt>, <dt><a class=\"mw-redirect\" href=\"/wiki/Redneck_(stereotype)\" title=\"Redneck (stereotype)\">Redneck</a></dt>, <dt>Swamp <a href=\"/wiki/Yankee\" title=\"Yankee\">Yankee</a></dt>, <dt><a href=\"/wiki/Teuchter\" title=\"Teuchter\">Teuchter</a></dt>, <dt><a href=\"/wiki/Westie_(person)\" title=\"Westie (person)\">Westie/Westy</a></dt>, <dt><a href=\"/wiki/Woollyback\" title=\"Woollyback\">Woollyback</a></dt>, <dt><a href=\"/wiki/Yankee\" title=\"Yankee\">Yankee</a>/Yank</dt>, <dt><a href=\"/wiki/Yardie\" title=\"Yardie\">Yardie</a></dt>, <dt><a href=\"/wiki/Yokel\" title=\"Yokel\">Yokel</a></dt>]\n"
          ]
        }
      ]
    },
    {
      "cell_type": "code",
      "source": [
        "out = []\n",
        "for item in soup.find_all('dt'):\n",
        "  out.append(item.get_text().lower())"
      ],
      "metadata": {
        "id": "-LRXeduzlHj7"
      },
      "execution_count": null,
      "outputs": []
    },
    {
      "cell_type": "code",
      "source": [
        "out"
      ],
      "metadata": {
        "colab": {
          "base_uri": "https://localhost:8080/"
        },
        "id": "CfplI8mvlVi_",
        "outputId": "bbd71313-b927-4329-a65c-49dc402a6550"
      },
      "execution_count": null,
      "outputs": [
        {
          "output_type": "execute_result",
          "data": {
            "text/plain": [
              "['arkansawyer',\n",
              " 'arkie/arky',\n",
              " 'appler',\n",
              " 'aussie',\n",
              " 'banker (or outer banker)',\n",
              " 'banana bender',\n",
              " 'boricua',\n",
              " 'bluenose, bluenoser',\n",
              " 'bonacker',\n",
              " 'brummie',\n",
              " 'buckeye',\n",
              " 'cabbage patcher',\n",
              " 'cajun',\n",
              " 'canuck',\n",
              " 'capixaba',\n",
              " 'carioca',\n",
              " 'candango',\n",
              " 'catracho',\n",
              " 'chamo',\n",
              " 'cheesehead',\n",
              " 'chilango, defeño, capitalino',\n",
              " 'cockney',\n",
              " 'cockroach',\n",
              " 'cohee',\n",
              " 'conch',\n",
              " 'croweater',\n",
              " 'culchie',\n",
              " 'dallie or dally',\n",
              " 'foolio',\n",
              " 'fudgie',\n",
              " 'gaúcho',\n",
              " 'geordie',\n",
              " 'gult, gulti, gulte',\n",
              " 'hidrocálido',\n",
              " 'hillbilly',\n",
              " 'hoosier',\n",
              " 'jackeen',\n",
              " 'jafa, jafa',\n",
              " 'swansea jack',\n",
              " 'janner',\n",
              " 'jarocho',\n",
              " 'kaaskop',\n",
              " 'kiwi',\n",
              " 'kraut',\n",
              " 'leodesian, loiner',\n",
              " 'mackem',\n",
              " 'madrasi',\n",
              " 'michigander',\n",
              " 'monkey hanger',\n",
              " 'moonrakers',\n",
              " 'newfie, newfie, newf',\n",
              " 'knickerbocker',\n",
              " 'nutmegger',\n",
              " 'nipper',\n",
              " 'okie',\n",
              " 'ossi',\n",
              " 'pikey',\n",
              " 'pinoy',\n",
              " 'polentone\\xa0[it]',\n",
              " 'pom',\n",
              " 'porteño',\n",
              " 'polak',\n",
              " 'regio, regiomontano',\n",
              " 'rhode islander',\n",
              " 'saffa / saffer',\n",
              " 'sandgroper',\n",
              " 'sandlapper',\n",
              " 'scouser',\n",
              " 'sooner',\n",
              " 'spud islander',\n",
              " 'stubblejumper',\n",
              " 'taffy',\n",
              " 'tar heel',\n",
              " 'taswegian, tassie',\n",
              " 'tapatío',\n",
              " 'terrone',\n",
              " 'tico',\n",
              " 'tripeiro',\n",
              " 'trolls',\n",
              " 'tuckahoe',\n",
              " 'tyke',\n",
              " 'wessi',\n",
              " 'yat',\n",
              " 'yellowbelly (copthorne)',\n",
              " 'yellowbelly (lincolnshire)',\n",
              " 'yinzer',\n",
              " 'yooper',\n",
              " 'zimbo',\n",
              " 'carcamano',\n",
              " 'coastie',\n",
              " 'cohee',\n",
              " 'eurotrash',\n",
              " 'flatlander',\n",
              " 'gaucho',\n",
              " 'goober',\n",
              " 'guajiro',\n",
              " 'hillbilly',\n",
              " 'redneck',\n",
              " 'swamp yankee',\n",
              " 'teuchter',\n",
              " 'westie/westy',\n",
              " 'woollyback',\n",
              " 'yankee/yank',\n",
              " 'yardie',\n",
              " 'yokel']"
            ]
          },
          "metadata": {},
          "execution_count": 25
        }
      ]
    },
    {
      "cell_type": "code",
      "source": [
        "racism = ['black', 'canuck', 'colored', 'coloured', 'coolie', 'coon', 'cracker', 'dago',\n",
        "          'eskimo', 'frog', 'gipsy', 'gook', 'goy', 'gringo', 'gypsy', 'half-breed', 'half-caste',\n",
        "          'yid', 'yankee', 'yank', 'wop', 'wog', 'whitey', 'wetback', 'wasp', 'uncle tom', 'taffy',\n",
        "          'squaw', 'spade', 'savage', 'redskin', 'red indian', 'pygmy', 'primitive', 'pommy', 'polack',\n",
        "          'pickaninny', 'paleface', 'pakeha', 'paddy', 'oriental', 'nonwhite', 'nigger', 'negro', 'negress',\n",
        "          'native', 'mulatto', 'mick', 'mammy', 'makwerekwere', 'kraut', 'kafir', 'kaffir', 'jock', 'jerry',\n",
        "          'injun', 'honky', 'haole', \"blacks\", \"abeed\", \"mixed\", \"beaner\", \"cholo\", \"buckra\", \"canuck\", \n",
        "\"east asians\", \"banana\", \"ah beng\", \"jap\", \n",
        "\"gaoli bangzi\", \"american-born confused desi\", \"bong\", \n",
        "\"chinki\", \"paki\",\"ang mo\", \"šiptar\", \"limey\", \"cheesehead\", \n",
        "\"chukhna\", \"cheese-eating surrender monkeys\", \"hun\", \"grecoman\", \n",
        "\"fenian\", \"dago\", \"polack\", \"moskal\", \"shkije\", \"dago\", \"khokhol\", \n",
        "\"bulgarophiles\", \"rafida\", \"christ killer\", \"blackfella\", \"kebab\", \n",
        "\"didicoy\", \"ajam\", \"abeed\", \"beaner\", \"cholo\", \"buckra\", \"canuck\", \n",
        "\"banana\", \"ah beng\", \"jap\", \"gaoli bangzi\",  \n",
        "\"american-born confused desi\", \"bong\", \"chinki\", \"paki\", \"banana\", \n",
        "\"ah beng\", \"jap\", \"gaoli bangzi\", \"american-born confused desi\", \n",
        "\"bong\", \"chinki\", \"paki\", \"ang mo\", \"šiptar\", \"limey\", \"cheesehead\", \n",
        "\"chukhna\", \"cheese-eating surrender monkeys\", \"hun\", \"grecoman\", \n",
        "\"fenian\", \"dago\", \"polack\", \"moskal\", \"shkije\", \"dago\", \"khokhol\", \n",
        "\"bulgarophiles\", 'abcd', 'white', 'apache', 'bohemian', 'bugger', 'cannibal', 'cohee',\n",
        "'goth', 'gringo', 'gyp', 'hun', 'mongol', 'philistine', 'pygmy', 'sherpa', 'tartar', 'vandal',\n",
        "\"arkansawyer\", \"arkie\", \"arky\", \"appler\", \"aussie\", \"banker\", \n",
        "\"banana bender\", \"boricua\", \"bluenose, bluenoser\", \"bonacker\", \n",
        "\"brummie\", \"buckeye\", \"cabbage patcher\", \"cajun\", \"canuck\", \"capixaba\", \n",
        "\"carioca\", \"candango\", \"catracho\", \"chamo\", \"cheesehead\", \"chilango, defeño, capitalino\", \n",
        "\"cockney\", \"cockroach\", \"cohee\", \"conch\", \"croweater\", \"culchie\", \n",
        "\"dallie\", \"dally\", \"foolio\", \"fudgie\", \"gaúcho\", \"geordie\", \n",
        "\"gult, gulti, gulte\", \"hidrocálido\", \"hillbilly\", \"hoosier\", \n",
        "\"jackeen\", \"jafa\", \"jafa\", \"swansea jack\", \"janner\", \"jarocho\", \n",
        "\"kaaskop\", \"kiwi\", \"kraut\", \"leodesian, loiner\", \"mackem\", \"madrasi\", \n",
        "\"michigander\", \"monkey hanger\", \"moonrakers\", \"newfie, newfie, newf\", \n",
        "\"knickerbocker\", \"nutmegger\", \"nipper\", \"okie\", \"ossi\", \"pikey\", \n",
        "\"pinoy\", \"polentone\", \"pom\", \"porteño\", \"polak\", \"regio, regiomontano\", \n",
        "\"rhode islander\", \"saffa\", \"saffer\", \"sandgroper\", \"sandlapper\", \n",
        "\"scouser\", \"sooner\", \"spud islander\", \"stubblejumper\", \"taffy\", \n",
        "\"tar heel\", \"taswegian, tassie\", \"tapatío\", \"terrone\", \"tico\", \n",
        "\"tripeiro\", \"trolls\", \"tuckahoe\", \"tyke\", \"wessi\", \"yat\", \"yellowbelly\", \"copthorne\", \n",
        "\"yellowbelly\", \"lincolnshire\", \"yinzer\", \"yooper\", \"zimbo\", \"carcamano\", \n",
        "\"coastie\", \"cohee\", \"eurotrash\", \"flatlander\", \"gaucho\", \"goober\", \n",
        "\"guajiro\", \"hillbilly\", \"redneck\", \"swamp yankee\", \"teuchter\", \n",
        "\"westie\", \"westy\", \"woollyback\", \"yankee\", \"yank\", \"yardie\", \"yokel\"]\n",
        "racism = set(racism)"
      ],
      "metadata": {
        "id": "qVivfH9EZavW"
      },
      "execution_count": null,
      "outputs": []
    },
    {
      "cell_type": "code",
      "source": [
        "out = []\n",
        "for text in train.text:\n",
        "  temp = []\n",
        "  for item in racism:\n",
        "    if text.find(item) != -1:\n",
        "      temp.append(item)\n",
        "  temp = ','.join(temp)\n",
        "  out.append(temp)\n"
      ],
      "metadata": {
        "id": "Yq2gkmgxlGAA"
      },
      "execution_count": null,
      "outputs": []
    },
    {
      "cell_type": "code",
      "source": [
        "train['racism'] = out\n",
        "pd.crosstab(train['racism'] == '', train['label'])"
      ],
      "metadata": {
        "colab": {
          "base_uri": "https://localhost:8080/",
          "height": 143
        },
        "id": "sB6hfDSAnZ2K",
        "outputId": "942298d7-b494-4019-a0ad-d77795ed6ee8"
      },
      "execution_count": null,
      "outputs": [
        {
          "output_type": "execute_result",
          "data": {
            "text/html": [
              "<div>\n",
              "<style scoped>\n",
              "    .dataframe tbody tr th:only-of-type {\n",
              "        vertical-align: middle;\n",
              "    }\n",
              "\n",
              "    .dataframe tbody tr th {\n",
              "        vertical-align: top;\n",
              "    }\n",
              "\n",
              "    .dataframe thead th {\n",
              "        text-align: right;\n",
              "    }\n",
              "</style>\n",
              "<table border=\"1\" class=\"dataframe\">\n",
              "  <thead>\n",
              "    <tr style=\"text-align: right;\">\n",
              "      <th>label</th>\n",
              "      <th>0</th>\n",
              "      <th>1</th>\n",
              "    </tr>\n",
              "    <tr>\n",
              "      <th>racism</th>\n",
              "      <th></th>\n",
              "      <th></th>\n",
              "    </tr>\n",
              "  </thead>\n",
              "  <tbody>\n",
              "    <tr>\n",
              "      <th>False</th>\n",
              "      <td>312</td>\n",
              "      <td>584</td>\n",
              "    </tr>\n",
              "    <tr>\n",
              "      <th>True</th>\n",
              "      <td>5169</td>\n",
              "      <td>2435</td>\n",
              "    </tr>\n",
              "  </tbody>\n",
              "</table>\n",
              "</div>"
            ],
            "text/plain": [
              "label      0     1\n",
              "racism            \n",
              "False    312   584\n",
              "True    5169  2435"
            ]
          },
          "metadata": {},
          "execution_count": 28
        }
      ]
    },
    {
      "cell_type": "markdown",
      "source": [
        "### Religion"
      ],
      "metadata": {
        "id": "OECfnHHCTJxO"
      }
    },
    {
      "cell_type": "code",
      "source": [
        "religion = [\"bible beater\", \"bible basher\", \"bible thumper\", \n",
        "\"cafeteria christian\", \"chuhra\", \"fundie\", \"isai, saai\", \"rice christian, rice bag\", \n",
        "\"campbellite\", \"holy roller\", \"jaffa\", \"prod\", \"russellite\", \n",
        "\"shaker\", \"soup-taker\", \"left-footer\", \"fenian\", \"mackerel snapper\", \n",
        "\"mick\", \"papist\", \"red letter tribe\", \"redneck\", \"roman catholic\", \n",
        "\"shaveling\", \"taig\", \"mormon\", \"molly mormon\", \"jack mormon\", \n",
        "\"abbie\", \"heeb\", \"hymie\", \"ikey\", \"itzig\", \"jewboy\", \"kike\", \n",
        "\"mocky\", \"moch\", \"red sea pedestrian\", \"sheeny\", \"shylock\", \"yakubian\", \n",
        "\"yid\", \"zhyd\", \"raghead\", \"osama\", \"muzzie\", \"qadiani\", \"kadrun\", \n",
        "\"cow piss drinker, piss drinker\", \"dothead\", \"malaun\", \n",
        "\"buddhists\", \"christians\", \"general\", \"catholics\", \"protestants\", \n",
        "\"hindus\", \"jews\", \"reformers\", \"cryptos\", \"muslim\", 'muslims', 'mohammed',\n",
        "\"ahmadis\", \"isma'ilis\", \"sufis\", \"shias\", \"sunnis\", \"salafis\", \n",
        "\"non-believers\", \"non-muslims\", \"non-jewish\", \"zoroastrians\"]"
      ],
      "metadata": {
        "id": "1QS1qOhbTMgd"
      },
      "execution_count": null,
      "outputs": []
    },
    {
      "cell_type": "code",
      "source": [
        "out = []\n",
        "for text in train.text:\n",
        "  temp = []\n",
        "  for item in religion:\n",
        "    if text.find(item) != -1:\n",
        "      temp.append(item)\n",
        "  temp = ','.join(temp)\n",
        "  out.append(temp)"
      ],
      "metadata": {
        "id": "bEQPGd_3TmSt"
      },
      "execution_count": null,
      "outputs": []
    },
    {
      "cell_type": "code",
      "source": [
        "train['religion'] = out\n",
        "pd.crosstab(train['religion'] == '', train['label'])"
      ],
      "metadata": {
        "colab": {
          "base_uri": "https://localhost:8080/",
          "height": 143
        },
        "id": "65aJt6TuUiDF",
        "outputId": "2ecf7fcc-ac17-46c7-bbcc-0c1e38c998ee"
      },
      "execution_count": null,
      "outputs": [
        {
          "output_type": "execute_result",
          "data": {
            "text/html": [
              "<div>\n",
              "<style scoped>\n",
              "    .dataframe tbody tr th:only-of-type {\n",
              "        vertical-align: middle;\n",
              "    }\n",
              "\n",
              "    .dataframe tbody tr th {\n",
              "        vertical-align: top;\n",
              "    }\n",
              "\n",
              "    .dataframe thead th {\n",
              "        text-align: right;\n",
              "    }\n",
              "</style>\n",
              "<table border=\"1\" class=\"dataframe\">\n",
              "  <thead>\n",
              "    <tr style=\"text-align: right;\">\n",
              "      <th>label</th>\n",
              "      <th>0</th>\n",
              "      <th>1</th>\n",
              "    </tr>\n",
              "    <tr>\n",
              "      <th>religion</th>\n",
              "      <th></th>\n",
              "      <th></th>\n",
              "    </tr>\n",
              "  </thead>\n",
              "  <tbody>\n",
              "    <tr>\n",
              "      <th>False</th>\n",
              "      <td>68</td>\n",
              "      <td>248</td>\n",
              "    </tr>\n",
              "    <tr>\n",
              "      <th>True</th>\n",
              "      <td>5413</td>\n",
              "      <td>2771</td>\n",
              "    </tr>\n",
              "  </tbody>\n",
              "</table>\n",
              "</div>"
            ],
            "text/plain": [
              "label        0     1\n",
              "religion            \n",
              "False       68   248\n",
              "True      5413  2771"
            ]
          },
          "metadata": {},
          "execution_count": 10
        }
      ]
    },
    {
      "cell_type": "markdown",
      "source": [
        "### Gender"
      ],
      "metadata": {
        "id": "HqkF9d8Xno16"
      }
    },
    {
      "cell_type": "code",
      "source": [
        "page = requests.get(\"https://en.wikipedia.org/wiki/List_of_LGBT_slang_terms\")\n",
        " \n",
        "# scrape webpage\n",
        "soup = BeautifulSoup(page.content, 'html.parser')\n",
        " \n",
        "list(soup.children)\n",
        "out = []\n",
        "for ul in soup.find_all('ul'):\n",
        "  lis=ul.find_all('li')\n",
        "  for elem in lis:\n",
        "    out.append(elem.get_text().strip().lower())\n",
        "print(out)"
      ],
      "metadata": {
        "colab": {
          "base_uri": "https://localhost:8080/"
        },
        "id": "9WgDRtYZnsXh",
        "outputId": "9a91e812-4cb0-4462-da17-9cec14337580"
      },
      "execution_count": null,
      "outputs": [
        {
          "output_type": "stream",
          "name": "stdout",
          "text": [
            "['lesbian', 'gay', 'bisexual', 'transgender', 'homosexuality', 'bisexuality\\npansexuality', 'pansexuality', 'asexuality\\ngray asexuality', 'gray asexuality', 'queer', 'sexual identity', 'demographics', 'biology', 'environment', 'gender identity', 'gender role', 'gender variance', 'non-binary gender', 'queer heterosexuality', 'sex and gender distinction', 'trans man', 'trans woman', 'transgender', 'transsexual', 'pansexuality', 'gray asexuality', 'timeline', 'social movements', 'gay liberation', 'stonewall riots', 'lgbt and intersex', 'coming out', 'community\\nafrican-american', 'african-american', 'dyke march', 'events\\nlargest events', 'largest events', 'gay village', 'homosocialization', 'media\\nfilms\\nnew queer cinema\\nperiodicals', 'films', 'new queer cinema', 'periodicals', 'pride\\nparade', 'parade', 'queer art', 'same-sex relationship', 'slang\\nlist', 'list', 'symbols', 'takatāpui', 'african-american', 'largest events', 'films', 'new queer cinema', 'periodicals', 'parade', 'list', 'adoption', 'civil union', 'intersex human rights', 'marriage', 'military service', 'parenting', 'rights by country or territory', 'transgender rights', 'yogyakarta principles', 'medical organizations', 'reproduction', 'transgender health care', 'youth suicide', 'amatonormativity', 'heteronormativity', 'homosexuality and religion', 'mixed-orientation marriage', 'media portrayal', 'sexual diversity', 'stereotypes', 'transgender people and religion', 'acephobia', 'aids stigma', 'anti-lgbt rhetoric', 'biphobia', 'closeted\\nouting', 'outing', 'domestic violence', 'erasure\\nstraightwashing\\nbisexual erasure\\nlesbian erasure', 'straightwashing', 'bisexual erasure', 'lesbian erasure', 'gay bashing', 'gayphobia', 'heterosexism', 'homophobia', 'intersex discrimination', 'lesbophobia', 'migration', 'non-binary discrimination', 'sexualism', 'transphobia', 'violence', 'outing', 'straightwashing', 'bisexual erasure', 'lesbian erasure', 'lesbian feminism', 'lavender linguistics', 'queer studies', 'queer theory', 'transfeminism', 'travesti', 'v', 't', 'e', '1 for lesbians', '2 for gay men', '3 for bisexuals or pansexuals', '4 for androgynous or intersex people', '5 for transgender and nonbinary people', '6 gender-neutral terms\\n\\n6.1 cisgender', '6.1 cisgender', '7 see also', '8 references', '6.1 cisgender', 'bean flicker, \"likening the clitoris to a bean\"[1]', 'butch, butch-broad[2]', 'carpet muncher (or \"rug muncher\")[3]', 'dyke (\"bull dyke\", \"bull dagger\", alternatively \"bulldagger\", \"bulldicker\"[4]), from 1920s black american slang[5][6][7]\\ndiesel dyke[8][9]\\ndrag dyke[10]', 'diesel dyke[8][9]', 'drag dyke[10]', 'kiki, a term used primarily from the 1940s until the 1960s to indicate a lesbian who was not butch or femme and did not have a preference for either butch or femme partners[11]', 'kitty puncher or pussy puncher, with both \"kitty\" and \"pussy\" referring to a woman\\'s vagina, and \"puncher\" as a variation on various derogatory terms for gay men, such \"donut puncher\".[12]', 'lezzie/lesbo/leso/les/leb (also \"lezzer\" or \"lesser\") (abbreviation for \"lesbian\")[citation needed]', 'lipstick lesbian, a lesbian who exhibits a greater amount of feminine gender attributes, such as wearing make-up, dresses, skirts, etc.[citation needed]', 'muff diver[13]', 'the game of flats (an 18th century english term for sex between women)[14]', 'diesel dyke[8][9]', 'drag dyke[10]', 'anal assassin (united kingdom) or \"anal astronaut\"[15]', 'arse bandit[16] or ass bandit[17]', 'backgammon player (late 18th century britain)[18]', 'bear, a gay man who is large, hairy, and rugged.[19]', 'bent, bentshot or bender[20]', 'bone smuggler[21]', 'brownie king or brown piper[22]', 'bufter, bufty (mainly scottish) or booty buffer[15]', 'bugger (from buggery)[citation needed]', 'bum boy or bum chum,[23] also bum robber[24]', 'bum-driller[25]', 'bumhole engineer[26]', 'butt pirate,[27] butt boy, butt rider, butt pilot, or butt rustler[27]', 'chi chi man (jamaica and the caribbean)[28][29]', 'cockstruction worker (referring to a gay man who is a construction worker)[30]', 'cockpipe cosmonaut[31]', 'crafty butcher [32]', 'daffodil or \"daffy\", a derogatory term[citation needed]', 'donut puncher/muncher[12]', 'faggot,[33][34][35] fag[36]', 'fairy (common and acceptable for part of the 20th century)[37]', 'femboy,[38] a feminine or androgynous gay male', 'finocchio (from italy, meaning fennel)[39]', 'flamer[40]', 'flit[41]', 'flower[42]', 'friend of dorothy[43]', 'fruit (also fruit loop, fruit packer, butt fruit)[44]', 'fudge packer[20]', 'gaysian, referring to a gay asian[45]', 'gym bunny, often referring to a gay man who obsessively works out at the gym.[citation needed]', 'homo[citation needed]', 'light in the loafers,[46] light in the pants,[46] or light in the fedora[47]', 'limp wristed[citation needed]', 'meat masseuse[30]', 'muscle mary (see gym bunny)[citation needed]', 'ogay[48]', 'oklahomo[49]', 'pansy[50]', 'payaso[citation needed]', 'peterpuffer[citation needed]', 'bean queen (also taco queen or salsa queen), gay man attracted to hispanic men[51]', 'brownie queen, obsolete slang for gay man interested in anal sex (used by men who disliked anal sex)[52]', 'chicken queen, older gay man interested in younger or younger appearing men[53]', 'grey queen, a gay person who works for the financial services industry (this term originates from the fact that in the 1950s, people who worked in this profession often wore grey flannel suits).[54]', 'potato queen, gay asian man attracted mainly to white men.[55]', 'rice queen, gay man attracted mainly to east asian men.[55]', 'queer, umbrella term for sexual and gender minorities who are not heterosexual or are not cisgender, sometimes considered a slur[citation needed]', 'ring raider[15]', 'sissy[citation needed]', 'sod (from sodomy)[56]', 'twink, a young or young-looking gay man, with little body hair and a slender build[57]', 'woolly,[citation needed] woofter and woolie woofter, a character from an evening standard cartoon and rhyming slang for poofter[58]', 'switch hitter, from the baseball term[citation needed]', 'bicon: portmanteau of the words bisexual and icon. used to refer to a bisexual celebrity[59]', 'gillette blade, a 1950s era term for bisexual women, whose sexuality \"cuts both ways\"[60]', 'unicorn/hot bi babe (hbb): a bisexual person who desires multiple partners and is willing to join an existing married couple (known as a \"dyad\", versus a \"triad\" when there are three people),[61] the presumption being the \"unicorn\" will date and become sexually involved with both members of the couple.[62] \"unicorns\" are so named because people willing to agree to such arrangements are rare, whereas couples looking for a lovers who will agree to these terms are common. \"dyads\" actively seeking unicorns are called \"unicorn hunters\".[63]', 'futanari (ふたなり, \"to be of two kinds\", seldom: 二形, 双形, lit. \"dual form\") is the japanese word for hermaphroditism, which is also used in a broader sense for androgyny.[64][65]:\\u200a79,\\u200a81', 'hermie, an androgynous or intersex person.[66]', 'cuntboy / dickgirl, a female-to-male (ftm) and male-to-female (mtf) transgender/transsexual person, respectively, who has not had genital surgery.[citation needed]', 'egg, a transgender person who has not yet realized they are trans.[67]', 'enby, from the acronym nb (\"nonbinary\").[68]', 'lady boy (\"ladyboy\" or \"lady-boy\"), english translation of kathoey, similar or equivalent to transgender woman.[citation needed]', 'shemale, a trans woman with male genitalia and possibly female secondary sex characteristics.[69] primarily a term used in pornography and often considered derogatory.[citation needed]', 't-girl, short for transgender / transsexual girl, considered derogatory by some.[70]', 'tranny, slur used for transgender people.[71][72]', 'transbian, (portmanteau of \"trans\" and \"lesbian\"), a transgender lesbian.[citation needed]', 'molly and tommy, in 18th century england, the term \"molly\" was used for male homosexuals, implying effeminacy; \"tommy\", a slang term for a homosexual woman in use by 1781, and may have been coined by analogy. see molly house.[73]', 'skoliosexual, to describe attraction to non-binary people.[74][75]', 'cissy, a cisgender person.[citation needed]', 'cishet, someone who is cisgender and heterosexual, or cisgender and heteroromantic.[76]', 'chaser / fetishist, a cisgender person who has a sexual fetish for transgender people, usually transgender women.[citation needed]', 'lgbt slang', 'list of ethnic slurs', 'list of religious slurs', 'polari – slang/cant used predominantly by some british gay men until the 1960s', 'throw shade (slang)', 'yas (slang)', 'v', 't', 'e', 'academic fields', 'discourse', 'lgbt topics in education', 'gender studies', 'lesbian feminism', 'lgbt linguistics', 'lgbt literature', 'queer studies', 'queer theory', 'transfeminism', 'community', 'culture', 'anthems', 'bars', 'bisexual community', 'coming out', 'community centers', 'cross-dressing\\ndrag king\\ndrag queen', 'drag king', 'drag queen', 'fiction topics', 'film festivals', 'gay-friendly', 'icons', 'lesbian utopia', 'literature', 'music', 'neighborhoods', 'organizations', 'periodicals', 'pride', 'pride parade', 'religious groups', 'rodeos', 'same-sex relationships', 'slang\\nlist of slang terms', 'list of slang terms', 'slogans', 'sports', 'symbols', 'tourism', 'drag king', 'drag queen', 'list of slang terms', 'gender identities', 'sexual identities', 'sexual diversities', 'androgyny', 'boi', 'cisgender', 'female', 'gender bender', 'male', 'non-binary (or genderqueer)', 'transgender', 'trans man', 'transsexual', 'trans woman', 'womxn', 'womyn', \"akava'ine\", 'albanian sworn virgins', 'androgynos', 'bakla', 'bissu', 'dee', 'eunuch', \"fa'afafine\", 'fakaleitī', 'femminiello', 'hijra', 'kathoey', 'khanith', 'köçek', 'māhū', 'mak nyah', 'mukhannathun', 'muxe', 'takatāpui', 'tom', 'tomboy', 'travesti', 'tumtum', 'two-spirit', 'winkte', 'asexual', 'bisexual', 'heterosexual', 'homosexual', 'attraction to transgender people', 'banjee', 'bi-curious', 'ex-gay', 'ex-ex-gay', 'gay', 'gay men', 'heteroflexible', 'lesbian', 'monosexual', 'non-heterosexual', 'pansexual', 'polyamorous', 'queer', 'questioning', 'romantic orientation', 'same gender loving', 'detransition', 'erotic target location error', 'gender and sexual diversity', 'gender binary', 'gender essentialism', 'gender expression', 'gender neutrality', 'gender roles', 'hermaphrodite', 'human female sexuality', 'human male sexuality', 'intersex', 'sexuality and gender identity-based cultures', 'history of homosexuality', 'history of gay men in the united states', 'history of lesbianism', 'lgbt history timeline', 'social movements', 'history of christianity and homosexuality', 'history of same-sex unions', 'pederasty', 'category:lgbt history', 'adelphopoiesis', 'ancient egypt', 'ancient greece', 'ancient peru', 'ancient rome', 'medieval europe', 'molly house', 'uranian', 'handkerchief code', 'johns committee', 'sea queens', 'stonewall riots', 'festival of light action', 'white night riots', 'timeline of same-sex marriage', 'lgbt culture in miami', 'lgbt culture in new york city', 'stonewall national monument', 'rights and legal issues', 'africa', 'americas', 'asia', 'europe', 'oceania', 'list of lgbt rights articles by region', 'adoption', 'civil unions and partnerships', 'hate crime laws', 'intersex human rights', 'military service', 'parenting', 'assisted reproduction', 'same-sex marriage\\ntimeline\\nlist of couples', 'timeline', 'list of couples', 'socialism', 'sodomy laws', 'transgender rights', 'united nations/yogyakarta principles', 'la francophonie', 'commonwealth of nations', 'timeline', 'list of couples', 'homophile', 'gay liberation', 'lgbt rights groups', 'lgbt rights activists', 'pink capitalism', 'biology', 'birth order', 'demographics', 'environment', 'homosexuality and psychology', 'kinsey scale', 'klein grid', 'neuroscience', 'prenatal hormones', 'sexual inversion', 'sexual orientation change efforts\\nconversion therapy', 'conversion therapy', 'sexual orientation identity', 'timeline of sexual orientation and medicine', 'conversion therapy', 'societal attitudes', 'prejudice', 'violence', 'anti-lgbt rhetoric', 'heteronormativity', 'heteropatriarchy', 'homonationalism', 'pinkwashing', 'gay panic defense', 'lgbt rights opposition', 'lgbt stereotypes', 'homosexuality and religion', 'transgender people and religion', 'queerbaiting', 'acephobia', 'anti-gender movement', 'aids stigma', 'biphobia', 'gay fascism', 'gayphobia', 'heterosexism', 'homophobia\\nliberal homophobia', 'liberal homophobia', 'lesbophobia', 'non-binary discrimination', 'riddle scale', 'splc-designated list of anti-lgbt u.s. hate groups', 'transmisogyny', 'transphobia', 'liberal homophobia', 'corrective rape', 'death penalty for homosexuality', 'gay bashing', 'history of violence in the uk', 'history of violence in the us', 'persecution of homosexuals in nazi germany', 'significant acts of violence against lgbt people', 'trans bashing', 'unlawfully killed transgender people', 'lgbt suicides', 'category', 'portal', 'v', 't', 'e', 'ace', 'bareback', 'banjee', 'bear', 'beard', 'beat', 'bi-curious', 'butch and femme', 'boi', 'top, bottom and versatile', 'bottom surgery', 'breeder', 'bugchasing', 'bulldagger', 'butch', 'castro clone', 'chicken', 'chickenhawk', 'chub', 'chubby chaser', 'cottaging', 'cruising', 'daddy', 'down-low', 'drag', 'dyke', 'en femme', 'en homme', 'fag (faggot)', 'fag hag', 'fag stag', 'female queen', 'f2m/ftm', 'femme', 'flagging (hanky code)', 'friend of dorothy', 'fruit', 'fruit fly', 'gay-for-pay', 'gaydar', 'gaymer', 'genderfuck', 'gold star lesbian', 'glory hole', 'heteroflexibility', 'lesbian until graduation', 'lipstick lesbian', 'm2f/mtf', 'non-op', 'packing', 'party and play', 'passing', 'poppers', 'post-op', 'pre-op', 'queen', 'rle', 'shemale', 'soft butch', 'scissoring', 'srs', 'stone butch', 'stealth', 'swish', 't', 'tea-room', 'terf', 'top surgery', 'trache shave', 'trade', 'tranny', 'transfan', 'transition', 'travesti', 'tribbing', 'troll', 'twink', 'u-haul lesbian', 'womyn-born womyn', 'polari', 'lgbt linguistics', 'terminology of homosexuality', 'category', 'v', 't', 'e', 'anilingus', 'banjee', 'bareback', 'baseball metaphors for sex', 'blue balls', 'bottom', 'camel toe', 'chickenhead', 'circle jerk', 'cock tease', 'cornhole', 'cougar', 'cunt', 'deep-throating', 'dick', 'dirty sanchez', 'dogging', 'donkey punch', 'douche', 'felching', 'fuck', 'girlfriend experience', 'glory hole', 'hogging', 'hot karl', 'italian profanity', 'latin profanity', 'mama-san', 'mammary intercourse', 'mat', 'mile high club', 'motherfucker', 'nookie', 'party and play', 'pearl necklace', 'pegging', 'pirate', 'pussy', 'quickie', 'red wings', 'rusty trombone', 'serosorting', 'shemale', 'slut', 'snowballing', 'soggy biscuit', 'switch', 'teabagging', 'tits', 'top', 'top, bottom and versatile', 'turkey slap', 'twat', 'wanker', 'whale tail', 'whore', 'bara', 'bear', 'beard', 'bi-curious', 'breeder', 'bugchasing', 'butch and femme', 'butch', 'chicken', 'chickenhawk', 'chub', 'daddy', 'down-low', 'dyke', 'fag hag', 'femme', 'fruit', 'gay-for-pay', 'lipstick lesbian', 'queen', 'soft butch', 'stone butch\\xa0· stone femme', 'swish', 'trade', 'troll', 'twink', 'u-haul lesbian', 'ass to mouth', 'bukkake', 'centerfold', 'creampie', 'cum shot', 'deep-throating', 'downblouse', 'facial', 'felching', 'fluffer', 'gang bang', 'gokkun', 'golden age of porn', 'insert', 'milf/dilf', 'money shot', 'paysite', 'rosebud', 'stunt cock', 'upskirt', 'list of films that most frequently use the word \"fuck\"', 'human sexuality', 'sexology', 'sexual slur', 'terminology of homosexuality', 'glossary of bdsm', 'lgbt slang', 'sociolinguistics lists', 'lgbt-related lists', 'lgbt-related slurs', 'harv and sfn no-target errors', 'cs1 errors: missing title', 'articles with german-language sources (de)', 'articles with short description', 'short description is different from wikidata', 'wikipedia pending changes protected pages', 'wikipedia pages semi-protected due to dispute', 'articles needing additional references from june 2021', 'all articles needing additional references', 'articles to be merged from june 2021', 'all articles to be merged', 'all articles with unsourced statements', 'articles with unsourced statements from june 2021', 'articles containing japanese-language text', 'articles with unsourced statements from january 2021', 'dynamic lists', 'not logged in', 'talk', 'contributions', 'create account', 'log in', 'article', 'talk', 'read', 'view source', 'view history', 'main page', 'contents', 'current events', 'random article', 'about wikipedia', 'contact us', 'donate', 'help', 'learn to edit', 'community portal', 'recent changes', 'upload file', 'what links here', 'related changes', 'upload file', 'special pages', 'permanent link', 'page information', 'cite this page', 'wikidata item', 'download as pdf', 'printable version', 'this page was last edited on 3 december 2021, at 00:10\\xa0(utc).', 'text is available under the creative commons attribution-sharealike license;\\nadditional terms may apply.  by using this site, you agree to the terms of use and privacy policy. wikipedia® is a registered trademark of the wikimedia foundation, inc., a non-profit organization.', 'privacy policy', 'about wikipedia', 'disclaimers', 'contact wikipedia', 'mobile view', 'developers', 'statistics', 'cookie statement', '', '']\n"
          ]
        }
      ]
    },
    {
      "cell_type": "code",
      "source": [
        "gender = [\"bean flicker\", \"butch\", \"carpet muncher\", \"dyke\", \"diesel dyke\", \n",
        "\"drag dyke\", \"kiki\", \"kitty puncher\", \"pussy puncher\", \"lezzie\", \n",
        "\"lesbo\", \"leso\", \"les\", \"leb\", \"lipstick lesbian,\", \"muff diver\", \n",
        "\"the game of flats\", \"anal assassin\", \"arse bandit\", \"ass bandit\", \n",
        "\"backgammon player\", \"bear\", \"bent\", \"bentshot\", \"bender\", \"bone smuggler\", \n",
        "\"brownie king\", \"brown piper\", \"bufter\", \"bufty\", \"booty buffer\", \n",
        "\"bugger\", \"switch hitter\", \"bicon:\", \"gillette blade\", \"unicorn\", \n",
        "\"hot bi babe\", \"hbb\", \"futanari\", \"hermie\", \"cuntboy\", \"dickgirl\", \n",
        "\"egg\", \"enby\", \"lady boy\", \"shemale\", \"t-girl\", \"tranny\", \"transbian\", \n",
        "\"molly\", \"tommy\", \"skoliosexual\", \"cissy\", \"cishet\", \"chaser\", \n",
        "\"fetishist\", \"lesbian\", \"gay\", \"bisexual\", \"transgender\", \"homosexuality\", \n",
        "\"bisexuality\", \"pansexuality\", \"asexuality\", \"gray asexuality\", \n",
        "\"gray asexuality\", \"queer\", \"bum boy\", \"bum chum\", \"bum robber\", \n",
        "\"bum-driller\", \"bumhole engineer\", \"butt pirate\", \"butt boy\", \n",
        "\"butt rider\", \"butt pilot\", \"butt rustler\", \"chi chi man\", \"cockstruction\", \n",
        "\"cockpipe cosmonaut\", \"crafty butcher\", \"daffodil\", \"daffy\", \n",
        "\"donut puncher\", \"donut muncher\", \"faggot\", \"fairy\", \"femboy\", \n",
        "\"finocchio\", \"flamer\", \"flit\", \"flower\", \"friend of dorothy\", \n",
        "\"fruit\", \"fudge packer\", \"gaysian\", \"gym bunny\", \"homo\", \"light in the loafers\", \n",
        "\"light in the pants\", \"light in the fedora\", \"limp wristed\", \n",
        "\"meat masseuse\", \"muscle mary\", \"ogay\", \"oklahomo\", \"pansy\", \n",
        "\"payaso\", \"peterpuffer\", \"bean queen\", \"taco queen\", \"salsa queen\", \n",
        "\"brownie queen\", \"chicken queen\", \"grey queen\", \"potato queen\", \n",
        "\"rice queen\", \"queer\", \"ring raider\", \"sissy\", \"sod\", \"twink\", \n",
        "\"woolly\", \"homophobic\"]"
      ],
      "metadata": {
        "id": "RSq8JDkGFCBC"
      },
      "execution_count": null,
      "outputs": []
    },
    {
      "cell_type": "code",
      "source": [
        "out = []\n",
        "for text in train.text:\n",
        "  temp = []\n",
        "  for item in gender:\n",
        "    if item in text.split(' '):\n",
        "      temp.append(item)\n",
        "  temp = ','.join(temp)\n",
        "  out.append(temp)\n",
        "train['gender'] = out\n",
        "pd.crosstab(train['gender'] == '', train['label'])"
      ],
      "metadata": {
        "colab": {
          "base_uri": "https://localhost:8080/",
          "height": 143
        },
        "id": "2-ZmD5nBFJGi",
        "outputId": "80a067fe-9b41-43fb-c39d-113e0456f750"
      },
      "execution_count": null,
      "outputs": [
        {
          "output_type": "execute_result",
          "data": {
            "text/html": [
              "<div>\n",
              "<style scoped>\n",
              "    .dataframe tbody tr th:only-of-type {\n",
              "        vertical-align: middle;\n",
              "    }\n",
              "\n",
              "    .dataframe tbody tr th {\n",
              "        vertical-align: top;\n",
              "    }\n",
              "\n",
              "    .dataframe thead th {\n",
              "        text-align: right;\n",
              "    }\n",
              "</style>\n",
              "<table border=\"1\" class=\"dataframe\">\n",
              "  <thead>\n",
              "    <tr style=\"text-align: right;\">\n",
              "      <th>label</th>\n",
              "      <th>0</th>\n",
              "      <th>1</th>\n",
              "    </tr>\n",
              "    <tr>\n",
              "      <th>gender</th>\n",
              "      <th></th>\n",
              "      <th></th>\n",
              "    </tr>\n",
              "  </thead>\n",
              "  <tbody>\n",
              "    <tr>\n",
              "      <th>False</th>\n",
              "      <td>52</td>\n",
              "      <td>161</td>\n",
              "    </tr>\n",
              "    <tr>\n",
              "      <th>True</th>\n",
              "      <td>5429</td>\n",
              "      <td>2858</td>\n",
              "    </tr>\n",
              "  </tbody>\n",
              "</table>\n",
              "</div>"
            ],
            "text/plain": [
              "label      0     1\n",
              "gender            \n",
              "False     52   161\n",
              "True    5429  2858"
            ]
          },
          "metadata": {},
          "execution_count": 50
        }
      ]
    },
    {
      "cell_type": "code",
      "source": [
        "# check % of hateful memes with specific word\n",
        "#train = convert_jsonl_pd('/content/train.jsonl')\n",
        "np.mean(train.label[train.text.apply(lambda x:x.find('fat') != -1)])"
      ],
      "metadata": {
        "colab": {
          "base_uri": "https://localhost:8080/"
        },
        "id": "jY1tjvDzHhe6",
        "outputId": "d9c9a88f-336e-4468-b4c3-aa0b80327374"
      },
      "execution_count": null,
      "outputs": [
        {
          "output_type": "execute_result",
          "data": {
            "text/plain": [
              "0.5833333333333334"
            ]
          },
          "metadata": {},
          "execution_count": 69
        }
      ]
    },
    {
      "cell_type": "markdown",
      "source": [
        "### Pregnancy"
      ],
      "metadata": {
        "id": "71nMGHp6Ji_0"
      }
    },
    {
      "cell_type": "code",
      "source": [
        "pregnancy = [\"bun in the oven\", \"knocked up\", \"bat in the cave\", \"in the family way\", \n",
        "\"the rabbit died\", \"in the pudding club\", \"up the duff\", \"tin roof\", \n",
        "\"preggers\", \"knock up\", \"prego\", \"food baby\", \"preggy\", \"jamie lynn spears\", \n",
        "\"up the spout\", \"preggo\", \"chola\", \"pregnophile\", \"teen pregnancy\", \n",
        "\"tivo\", \"regnant\", \"mpreg\", \"pregnancy\", \"twit\", \"stuffed\", \"maiesiophilia\", \n",
        "\"preggie\", \"baby bump\", \"for shiz up the spout\", \"hermione\", \n",
        "\"duff\", \"juno\", \"project twins\", \"carlos\", \"sarah palin\", \n",
        "\"cooking up a baby\", \"tebo\", \"preg\", \"pregny\", \"heifer\", \"geni\", \n",
        "\"pregers\", \"pwilf\", \"up the pole\", \"selling life\", \"preggophile\", \n",
        "\"pregxy\", \"fupa\", \"mung\", \"pregnaphobia\", \"chubby-bunny\", \"infertile\", \n",
        "\"egg basketed\", \"internally fluffed\", \"pupa\", \"pregnot\", \"pregolicios\", \n",
        "\"catch a baby\"]"
      ],
      "metadata": {
        "id": "MiZYAqmxJn18"
      },
      "execution_count": null,
      "outputs": []
    },
    {
      "cell_type": "code",
      "source": [
        ""
      ],
      "metadata": {
        "id": "xIgZFAx2ZnPN"
      },
      "execution_count": null,
      "outputs": []
    },
    {
      "cell_type": "markdown",
      "source": [
        "### Disability"
      ],
      "metadata": {
        "id": "hRpyj6ymZos3"
      }
    },
    {
      "cell_type": "code",
      "source": [
        "# get URL\n",
        "page = requests.get(\"https://www.autistichoya.com/p/ableist-words-and-terms-to-avoid.html\")\n",
        " \n",
        "# scrape webpage\n",
        "soup = BeautifulSoup(page.content, 'html.parser')\n",
        " \n",
        "list(soup.children)\n",
        " \n",
        "# find all occurrence of p in HTML\n",
        "# includes HTML tags\n",
        "print(soup.find_all('b'))"
      ],
      "metadata": {
        "colab": {
          "base_uri": "https://localhost:8080/"
        },
        "id": "3mADUM7Kc6_Z",
        "outputId": "4969e24f-4ddf-41d8-b90e-2627c96b173d"
      },
      "execution_count": null,
      "outputs": [
        {
          "output_type": "stream",
          "name": "stdout",
          "text": [
            "[<b><span style=\"font-size: x-large;\">BEFORE YOU CONTINUE:</span></b>, <b><u>some</u></b>, <b><u>not</u> generally considered slurs, and in fact, <u>may not actually be</u> hurtful, upsetting, retraumatizing, or offensive to many disabled people</b>, <b>ableist</b>, <b>Violence in Language: Circling Back to Linguistic Ableism</b>, <b><u>Ableism is not a list of bad words.</u> Language is *one* tool of an oppressive system. Being aware of language -- for those of us who have the privilege of being able to change our language -- can help us understand how pervasive ableism is. Ableism is systematic, institutional devaluing of bodies and minds deemed deviant, abnormal, defective, subhuman, less than. <u>Ableism is *violence.*</u></b>, <b><u><br/></u></b>, <b>Glossary of Ableist Phrases</b>, <b>not </b>, <b>One important note</b>, <b><u>Generally ableist terms/phrases (some are slurs, some not)</u></b>, <b>Blind to ____ / turn a blind eye to </b>, <b>____ / blinded by ignorance/bigotry/etc. </b>, <b>double-blind review</b>, <b>Bonkers</b>, <b>Bound to a wheelchair (wheelchair bound)</b>, <b>Burn victim</b>, <b>Confined to a wheelchair</b>, <b>Crazy </b>, <b>Cripple/Crippled (by </b>, <b>____)</b>, <b>Cuckoo</b>, <b>Daft</b>, <b>Deaf-Mute</b>, <b>Deaf to ____ / turn a deaf ear to </b>, <b>____ / etc.</b>, <b>Deformed </b>, <b>deformity </b>, <b>Deranged</b>, <b>Derp (</b>, <b>herp-derp</b>, <b>der</b>, <b>durr</b>, <b>duh</b>, <b>doy</b>, <b> </b>, <b>Diffability</b>, <b>Differently abled </b>, <b>different abilities</b>, <b>Dumb</b>, <b>Handicap(ped)</b>, <b>Handicapable</b>, <b>Harelip</b>, <b>Hermaphrodite</b>, <b>Idiot(ic)</b>, <b>Imbecile</b>, <b>Insane </b>, <b>Insanity</b>, <b>Lame</b>, <b>Loony / Loony Bin</b>, <b>Low-functioning </b>, <b>high-functioning</b>, <b>level __ autism</b>, <b>mild/severe </b>, <b>Lunatic</b>, <b>Madhouse / Mad / Madman </b>, <b>nuthouse</b>, <b>Maniac</b>, <b>Mental/Mental Case</b>, <b>Midget</b>, <b>Morbidly obese</b>, <b>obese</b>, <b>Moron(ic)</b>, <b>Mouth breather</b>, <b>Nuts </b>, <b>nutcase</b>, <b>nutter</b>, <b>Psycho</b>, <b>Psychopath(ic)</b>, <b>Retard(ed)/[anything]-tard </b>, <b>libtard</b>, <b>fucktard</b>, <b>[you belong on the] Short-bus/ that's short-bus material/etc.</b>, <b>Spaz(zed)</b>, <b>Specially Abled</b>, <b>Special Needs</b>, <b>Stupid</b>, <b>Wacko/Whacko</b>, <b>Albino</b>, <b>Autistic</b>, <b>Barren</b>, <b>Bipolar</b>, <b>Borderline</b>, <b><u><br/></u></b>, <b>Deluded / delusional</b>, <b>Depressed </b>, <b>depressing</b>, <b>Freak</b>, <b>freaky</b>, <b>Impaired </b>, <b>impairment</b>, <b>Manic </b>, <b>Multiple personalities</b>, <b>Narcissistic</b>, <b>OCD</b>, <b>- Phobic </b>, <b>homophobic</b>, <b>Islamophobic</b>, <b><u><br/></u></b>, <b>Psychotic</b>, <b>Schizo </b>, <b>schizophrenic</b>, <b><u><br/></u></b>, <b>Suffers from </b>, <b>____</b>, <b>The wheelchair </b>, <b>Basically, any use of a specific disability diagnosis or name as a metaphor or hyperbolic representation of traits stereotypically associated with said condition. </b>, <b>ADD</b>, <b>claustrophobic</b>, <b>social anxiety</b>, <b>anorexic</b>, <b>spastic</b>, <b><u>Ableist terms and phrases that are mostly outdated and not in everyday use anymore</u></b>, <b>Cretin</b>, <b>Feeble-Minded</b>, <b>Invalid </b>, <b><br/></b>, <b>Mental Defective</b>, <b>Mongoloid</b>, <b>Simpleton</b>, <b><u>Non-ableist language</u></b>, <b><u><br/></u></b>, <b>Instead of an ableist word or phrase, perhaps you actually meant to say...</b>, <b>For describing people with disabilities/disabled people in general:</b>, <b>For describing people on the autism spectrum:</b>, <b>For describing people with intellectual disabilities:</b>, <b>For describing people with sensory disabilities:</b>, <b>For describing people with physical or mobility disabilities:</b>, <b>For describing hate, fear, bigotry, or oppression</b>, <b>Possible Replacement Insults Using Swears/Profanity </b>, <b>.</b>, <b>.</b>, <b>.</b>, <b>.</b>, <b>.</b>, <b>.</b>, <b>.</b>, <b>.</b>, <b>.</b>, <b>.</b>, <b>.</b>, <b>.</b>, <b>.</b>, <b>.</b>, <b>.</b>, <b>.</b>, <b>.</b>, <b>.</b>, <b>.</b>, <b>.</b>, <b>.</b>, <b>.</b>, <b>.</b>, <b>.</b>, <b>Lʏᴅɪᴀ X. Z. Bʀᴏᴡɴ<br/><br/>Aᴜᴛɪsᴛɪᴄ Hᴏʏᴀ</b>, <b>please feel free to do so</b>, <b style=\"font-family: garamond; font-weight: normal;\">a)</b>, <b style=\"font-family: garamond; font-weight: normal;\">b)</b>, <b style=\"font-family: garamond; font-weight: normal;\">c)</b>, <b style=\"font-family: garamond; font-weight: normal;\">d)</b>, <b style=\"font-family: garamond; font-weight: normal;\"> (e)</b>, <b>If your use of my stuff meets these conditions, you automatically have permission and don't need to ask</b>, <b>If you want to use my writing for any purpose not covered by these conditions (i.e. you will make money off my writing), please ask me and do not assume you have my permission.</b>]\n"
          ]
        }
      ]
    },
    {
      "cell_type": "code",
      "source": [
        "out = []\n",
        "for item in soup.find_all('b'):\n",
        "  out.append(item.get_text().lower())\n",
        "print(out)"
      ],
      "metadata": {
        "colab": {
          "base_uri": "https://localhost:8080/"
        },
        "id": "WEogNVa9dPed",
        "outputId": "ba4fd930-e4c1-4733-f8ee-b174315fec91"
      },
      "execution_count": null,
      "outputs": [
        {
          "output_type": "stream",
          "name": "stdout",
          "text": [
            "['before you continue:', 'some', 'not\\xa0generally considered slurs, and in fact, may not actually be hurtful, upsetting, retraumatizing, or offensive to many disabled people', 'ableist', 'violence in language: circling back to linguistic ableism', 'ableism is not a list of bad words. language is *one* tool of an oppressive system. being aware of language -- for those of us who have the privilege of being able to change our language -- can help us understand how pervasive ableism is. ableism is systematic, institutional devaluing of bodies and minds deemed deviant, abnormal, defective, subhuman, less than. ableism is *violence.*', '', 'glossary of ableist phrases', 'not ', 'one important note', 'generally ableist terms/phrases (some are slurs, some not)', 'blind to ____ / turn a blind eye to\\xa0', '____ / blinded by ignorance/bigotry/etc. ', 'double-blind review', 'bonkers', 'bound to a wheelchair (wheelchair bound)', 'burn victim', 'confined to a wheelchair', 'crazy\\xa0', 'cripple/crippled (by\\xa0', '____)', 'cuckoo', 'daft', 'deaf-mute', 'deaf to ____ / turn a deaf ear to\\xa0', '____ / etc.', 'deformed ', 'deformity\\xa0', 'deranged', 'derp (', 'herp-derp', 'der', 'durr', 'duh', 'doy', '\\xa0', 'diffability', 'differently abled ', 'different abilities', 'dumb', 'handicap(ped)', 'handicapable', 'harelip', 'hermaphrodite', 'idiot(ic)', 'imbecile', 'insane ', 'insanity', 'lame', 'loony / loony bin', 'low-functioning ', 'high-functioning', 'level __ autism', 'mild/severe ', 'lunatic', 'madhouse / mad / madman ', 'nuthouse', 'maniac', 'mental/mental case', 'midget', 'morbidly obese', 'obese', 'moron(ic)', 'mouth breather', 'nuts ', 'nutcase', 'nutter', 'psycho', 'psychopath(ic)', 'retard(ed)/[anything]-tard ', 'libtard', 'fucktard', \"[you belong on the] short-bus/ that's short-bus material/etc.\", 'spaz(zed)', 'specially abled', 'special needs', 'stupid', 'wacko/whacko', 'albino', 'autistic', 'barren', 'bipolar', 'borderline', '', 'deluded / delusional', 'depressed\\xa0', 'depressing', 'freak', 'freaky', 'impaired ', 'impairment', 'manic\\xa0', 'multiple personalities', 'narcissistic', 'ocd', '- phobic\\xa0', 'homophobic', 'islamophobic', '', 'psychotic', 'schizo ', 'schizophrenic', '', 'suffers from\\xa0', '____', 'the wheelchair ', 'basically, any use of a specific disability diagnosis or name as a metaphor or hyperbolic representation of traits stereotypically associated with said condition.\\xa0', 'add', 'claustrophobic', 'social anxiety', 'anorexic', 'spastic', 'ableist terms and phrases that are mostly outdated and not in everyday use anymore', 'cretin', 'feeble-minded', 'invalid\\xa0', '', 'mental defective', 'mongoloid', 'simpleton', 'non-ableist language', '', 'instead of an ableist word or phrase, perhaps you actually meant to say...', 'for describing people with disabilities/disabled people in general:', 'for describing people on the autism spectrum:', 'for describing people with intellectual disabilities:', 'for describing people with sensory disabilities:', 'for describing people with physical or mobility disabilities:', 'for describing hate, fear, bigotry, or oppression', 'possible replacement insults using swears/profanity ', '.', '.', '.', '.', '.', '.', '.', '.', '.', '.', '.', '.', '.', '.', '.', '.', '.', '.', '.', '.', '.', '.', '.', '.', 'lʏᴅɪᴀ x. z. bʀᴏᴡɴaᴜᴛɪsᴛɪᴄ hᴏʏᴀ', 'please feel free to do so', 'a)', 'b)', 'c)', 'd)', ' (e)', \"if your use of my stuff meets these conditions, you automatically have permission and don't need to ask\", 'if you want to use my writing for any purpose not covered by these conditions (i.e. you will make money off my writing), please ask me and do not assume you have my permission.']\n"
          ]
        }
      ]
    },
    {
      "cell_type": "code",
      "source": [
        "disability = [\"lame\", \"dumb\", \"retarded\", \"blind\", \"deaf\", \"imbecile\", \n",
        "\"psycho\", \"spaz\", \"barren\", \"cretin\", \"cripple\", \"crippled\", \n",
        "\"daft\", \"deaf-mute\", \"derp\", \"diffability\", \"differently abled\", \n",
        "\"feeble-minded\", \"handicap\", \"handicapable\", \"harelip\", \"hearing-impaired\", \n",
        "\"loony\", \"loony bin\", \"lunatic\", \"madhouse\", \"madman\", \n",
        "\"maniac\", \"mental\", \"mental case\", \"mental defective\", \"mongoloid\", \n",
        "\"moron\", \"moronic\", \"psychopathic\", \"psychotic\", \"short-bus\", \n",
        "\"simpleton\", \"spazzed\", \"specially abled\", \"special needs\", \"wacko\", \n",
        "\"whacko\", \"stupor\", \"blind to\", \"blind eye\", \"bigotry\", \n",
        "\"bonkers\", \"bound to a wheelchair\", \"wheelchair bound\", \"burn victim\", \n",
        "\"confined to a wheelchair\", \"cuckoo\", \"deaf to\", \"deaf ear\", \n",
        "\"deformed\", \"deformity\", \"deranged\", \"herp-derp\", \"der\", \"durr\", \n",
        "\"duh\", \"doy\", \"different abilities\", \"handicapped\", \"hermaphrodite\", \n",
        "\"autism\", \"nuthouse\", \"midget\", \"morbidly obese\", \"obese\", \"mouth breather\", \n",
        "\"nutcase\", \"nutter\", \"libtard\", \"fucktard\", \"albino\", \"autistic\", \n",
        "\"bipolar\", \"borderline\", \"deluded\", \"delusional\", \"freaky\", \"impaired\", \"impairment\", \"manic\", \n",
        "\"multiple personalities\", \"narcissistic\", \"ocd\", \"phobic\", \n",
        "\"islamophobic\", \"schizo\", \"schizophrenic\", \"the wheelchair\", \n",
        "\"claustrophobic\", \"anorexic\", \"spastic\", \"invalid\"]"
      ],
      "metadata": {
        "id": "MW9VgS_lj2Oh"
      },
      "execution_count": null,
      "outputs": []
    },
    {
      "cell_type": "code",
      "source": [
        "out = []\n",
        "for text in train.text:\n",
        "  temp = []\n",
        "  for item in disability:\n",
        "    if item in text.split(' '):\n",
        "      temp.append(item)\n",
        "  temp = ','.join(temp)\n",
        "  out.append(temp)\n",
        "train['disability'] = out\n",
        "pd.crosstab(train['disability'] == '', train['label'])"
      ],
      "metadata": {
        "colab": {
          "base_uri": "https://localhost:8080/",
          "height": 143
        },
        "id": "ULpxvEVIj8Pa",
        "outputId": "0d58223a-4f81-4687-c7b4-d269dbff3aea"
      },
      "execution_count": null,
      "outputs": [
        {
          "output_type": "execute_result",
          "data": {
            "text/html": [
              "<div>\n",
              "<style scoped>\n",
              "    .dataframe tbody tr th:only-of-type {\n",
              "        vertical-align: middle;\n",
              "    }\n",
              "\n",
              "    .dataframe tbody tr th {\n",
              "        vertical-align: top;\n",
              "    }\n",
              "\n",
              "    .dataframe thead th {\n",
              "        text-align: right;\n",
              "    }\n",
              "</style>\n",
              "<table border=\"1\" class=\"dataframe\">\n",
              "  <thead>\n",
              "    <tr style=\"text-align: right;\">\n",
              "      <th>label</th>\n",
              "      <th>0</th>\n",
              "      <th>1</th>\n",
              "    </tr>\n",
              "    <tr>\n",
              "      <th>disability</th>\n",
              "      <th></th>\n",
              "      <th></th>\n",
              "    </tr>\n",
              "  </thead>\n",
              "  <tbody>\n",
              "    <tr>\n",
              "      <th>False</th>\n",
              "      <td>39</td>\n",
              "      <td>87</td>\n",
              "    </tr>\n",
              "    <tr>\n",
              "      <th>True</th>\n",
              "      <td>5442</td>\n",
              "      <td>2932</td>\n",
              "    </tr>\n",
              "  </tbody>\n",
              "</table>\n",
              "</div>"
            ],
            "text/plain": [
              "label          0     1\n",
              "disability            \n",
              "False         39    87\n",
              "True        5442  2932"
            ]
          },
          "metadata": {},
          "execution_count": 68
        }
      ]
    },
    {
      "cell_type": "code",
      "source": [
        "train.disability.value_counts()"
      ],
      "metadata": {
        "colab": {
          "base_uri": "https://localhost:8080/"
        },
        "id": "8ogvzszHkHgf",
        "outputId": "bfcb5506-efed-4878-fa5d-869202b75339"
      },
      "execution_count": null,
      "outputs": [
        {
          "output_type": "execute_result",
          "data": {
            "text/plain": [
              "                     8244\n",
              "stupid                 85\n",
              "mental                 31\n",
              "retarded               25\n",
              "mad                    23\n",
              "blind                  20\n",
              "dumb                   11\n",
              "idiot                  11\n",
              "autistic                9\n",
              "nuts                    8\n",
              "deaf                    6\n",
              "midget                  6\n",
              "spastic                 4\n",
              "autism                  4\n",
              "handicap                2\n",
              "mental,moron            1\n",
              "deformity               1\n",
              "delusional              1\n",
              "mental,delusional       1\n",
              "maniac                  1\n",
              "dumb,stupid             1\n",
              "moron                   1\n",
              "idiotic                 1\n",
              "depressed               1\n",
              "freak                   1\n",
              "invalid                 1\n",
              "Name: disability, dtype: int64"
            ]
          },
          "metadata": {},
          "execution_count": 59
        }
      ]
    },
    {
      "cell_type": "code",
      "source": [
        "other"
      ],
      "metadata": {
        "id": "8iPajMSjo4ID"
      },
      "execution_count": null,
      "outputs": []
    }
  ]
}